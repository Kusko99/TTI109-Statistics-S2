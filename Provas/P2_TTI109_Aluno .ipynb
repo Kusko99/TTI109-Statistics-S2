{
  "nbformat": 4,
  "nbformat_minor": 0,
  "metadata": {
    "colab": {
      "provenance": []
    },
    "kernelspec": {
      "name": "python3",
      "display_name": "Python 3"
    },
    "language_info": {
      "name": "python"
    }
  },
  "cells": [
    {
      "cell_type": "markdown",
      "source": [
        "# Prova P2 - TTI109 - Estatística (CIC-SIN)\n",
        "## Instruções Gerais\n",
        "\n",
        "\n",
        "*   Preencha corretamente os campos de identificação (nome completo e RA).\n",
        "*   Execute a célula de código que contém tais campos.\n",
        "*   É permitida a consulta ao material da disciplina (OPEN-LMS).\n",
        "*   É permitida a consulta ao GitHub pessoal.\n",
        "*   A prova consta de 7 questões. As 6 primeiras tem pontuação  máxima de 1,6 pontos. *Dessas questões, a de menor pontuação será descartada*. A questão 7 tem pontuação máxima de 2,0 pontos, totalizando 10,0 pontos.\n",
        "*   Nas questões, grande parte do código já é fornecida. Preencha as lacunas ***'''Seu código aqui'''*** com sua solução.\n",
        "*   Quando pertinente, responda às questões dissertativas nos campos a elas destinados (Não use acentuação!).\n",
        "*   Execute a célula de código que contém esses campos.\n",
        "\n",
        "## Instruções para uso das funções de teste de hipótese\n",
        "\n",
        "*   Faça o *upload* do arquivo *funcoes_estatisticas.py* para o ambiente Colab.\n",
        "*   A importação do arquivo está implementada na seção de código localizada após a célula \"Identificação\".\n",
        "*   Para chamar as funções, use a sintaxe *fest.nome_funcao()*.\n",
        "\n"
      ],
      "metadata": {
        "id": "N5lOrc7mi89a"
      }
    },
    {
      "cell_type": "code",
      "execution_count": 25,
      "metadata": {
        "id": "pfjNqp4Gi2zm"
      },
      "outputs": [],
      "source": [
        "#@title Identificação\n",
        "Nome = \"Fernando Freitas de Oliveira\" #@param {type:\"string\"}\n",
        "RA = \"19.00468-0\" #@param {type:\"string\"}\n"
      ]
    },
    {
      "cell_type": "code",
      "source": [
        "# Importação de módulos\n",
        "import funcoes_estatisticas as fest\n",
        "import pandas as pd\n",
        "import matplotlib.pyplot as plt\n",
        "import numpy as np\n",
        "from sklearn.linear_model import LinearRegression"
      ],
      "metadata": {
        "id": "vzoeDnUL6a30"
      },
      "execution_count": 26,
      "outputs": []
    },
    {
      "cell_type": "markdown",
      "source": [
        "## Questão 01 - Níveis de dióxido de nitrogênio\n",
        "\n",
        "(1,6 pts.) Um cientista estima que o nível médio de dióxido de nitrogênio em Calgary é maior que 32 partes por bilhão. Você quer testar essa estimativa. Para isso, você determina os níveis de dióxido de nitrogênio em 34 dias selecionados aleatoriamente. Os resultados (em partes por bilhão) estão listados na tabela a seguir.\n",
        "\n",
        "![P2-Q1.png](data:image/png;base64,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)\n",
        "\n",
        "Suponha que o desvio padrão populacional é de 9 partes por bilhão. Para o nível de significância $\\alpha = 0,06$, você pode concordar com a estimativa do cientista? (Adaptado de *Clean Air Strategic Alliance*)"
      ],
      "metadata": {
        "id": "8OBehzILk8Ie"
      }
    },
    {
      "cell_type": "code",
      "source": [
        "# Conjunto de dados - Pandas Series\n",
        "NO2 = pd.Series([24, 36, 44, 35, 44, 34, 29, 40, 39, 43, 41, 32, 33, 29,\n",
        "                 29, 43, 25, 39, 25, 42, 29, 22, 22, 25, 14, 15, 14, 29,\n",
        "                 25, 27, 22, 24, 18, 17])\n",
        "media = NO2.mean()\n",
        "'''Escreva as hipóteses nula e alternativa, indicando a afirmação.'''\n",
        "# H0: mu <= 32 partes por bilhão\n",
        "# Ha: mu > 32 partes por bilhão (afirmação)\n",
        "p_valor = fest.teste_z(est_amostral=media, n_amostras=34, alpha=0.06, mu=32,\n",
        "            sigma=9, teste='dir')"
      ],
      "metadata": {
        "id": "NCZ7XeAtkydv",
        "colab": {
          "base_uri": "https://localhost:8080/"
        },
        "outputId": "1f7449d6-918e-49e5-dd05-b8ec16a08f60"
      },
      "execution_count": 27,
      "outputs": [
        {
          "output_type": "stream",
          "name": "stdout",
          "text": [
            "*** Teste de hipótese para a média (sigma conhecido) ***\n",
            "Teste unilateral à direita com p-valor = 0.933886\n",
            "Hipótese nula NÃO rejeitada ao nível de significância 6.0%\n"
          ]
        }
      ]
    },
    {
      "cell_type": "code",
      "source": [
        "#@title Interpretação\n",
        "Int_Q1 = \"Podemos concluir que, de acordo com essa amostra de dados, a estimativa do cientista estava errada e o nivel medio de N02 em Calgary e menor ou igual a 32 partes por bilhao\" #@param {type:\"string\"}"
      ],
      "metadata": {
        "id": "bhGoKRHb-hhX"
      },
      "execution_count": 28,
      "outputs": []
    },
    {
      "cell_type": "markdown",
      "source": [
        "## Questão 02 - Salários anuais\n",
        "\n",
        "(1,6 pts.) Uma agência de empregos afirma que o salário médio anual para trabalhadoras de período integral, mulheres, maiores de 25 anos e sem diploma no ensino médio é no máximo US$\\$$ 18.500. Os salários anuais (em dólares) para uma amostra aleatória de 12 trabalhadoras de período integral, mulheres e sem diploma de ensino médio estão listados na tabela a seguir.\n",
        "\n",
        "![P2-Q2.png](data:image/png;base64,iVBORw0KGgoAAAANSUhEUgAAAXEAAABxCAIAAACskgRHAAAAAXNSR0IArs4c6QAAAARnQU1BAACxjwv8YQUAAAAJcEhZcwAADsMAAA7DAcdvqGQAABvcSURBVHhe7Z37XxNX3sef/yQuAZbywqJSio+10loXq4+w1la8tIqWasAKcZGLlWDLReXSEh4ElFgXNAJrQAMKqMgaFVRwCRoUFlGjXBofY4uFlIsJjs+cySSZmcyA6BCG9ft+fX8gk5nJnDPn+5lzZobz+a+XAAAA/AGaAgAAn4CmAADAJzRNCc89BwEBATHZIBWEgKkpV+78AgEBAfHqAZoCAQHBZ4CmQEBA8BmgKRAQEHwGaAoEBASfAZoCAQHBZ4CmvFXRqcyKW5t87jxzOQQEbwGaMlOi93zN8R2RMZHxP0RHx0kSv1uffF7DXMcWt9uLktZ5imaJfX44orMvf6g+GD1n9jqpUsux4YMTud8GzP5cWnbH6SuBhPCPEAI0ZabEtVNbA9Yl1j4gPnYq920OSDjHqSl3ftGU/zCbpik9taUZG2KPKq91U1ejR9sByYdikc/SzKuXmF8JJIR/hBCgKTMjes8VxbwjWiYt7ySX3NIk7r8wGU15tbjRcrT86plbTsuFE8I/wrc+QFNmRPRU5oaLcY2Yvfbb3HOV2l58ydnr9y6jrx5Wlh2MzT5VpDywYdmqr5JOVRL5RtOUW62F+7NSlWcLMqVBy7bFEmOfy9fOxa6cg+9zdnzRgdjPAzYcU1+1LSF7QPieD0hicv9XWZoYI5OVtZISpr2W/Z0stqBKoTwcs2F31qUeynGy/lb3maL4APxgRJ9IVVplpiRA/FHo3vO11GNIOHfxuib5a7wPMkv8xd8r0a5YykVdX3Onr/586Y7ojMzS6gJ56prtx4mtIKY/QFNmRlw6n7/0T3haovAICJMWaGqtHZAryjXi+V8dvoUPiApjPhKL3v/qsA5fTtGUntMHIz3/HC2/2nOltXqb9yyxOEp+DVele0cSPsH35rlgzRcr3hcvzFK2kUuIjLUKgXVvvTWHozxFn3xddPPyne7K3G88vHYeaML30H36YE4GTVM4fkt3TuqDH3ngppjthLjg8Xlird5+DMQv2nTTqins5aKu/6/9oXO8IyrO4ivf1mYllYKmCCRAU2ZK3CvLlX5okxWxyHtR9Mkzt0nt8PhKeYaWb1RNsS6fG3qw1Zbbn0jL79nz0yemul6rK798n5axbVcSP/GyrWnb2yc5ZW33i2XLxCK3d1fK9p/SaVo7a1v7qAfJ/lvk3++vkV+rv6lJWIzvmViHdsw0TeEoF+VvXf3O99zwfa7Y+ffiBn399c56x2FATGeApsyg6K6trUiU/BWlN4r/2Xnq3pVrVd8uXrqu4MalO+0F0YG23KP1U2pLf/hoQVRm/cMr/6rcivcd6JpiXZ/YP2VJgzIU6RddU/4kyWp4dL4sydbXmBsUewrXNcoRcvwWTcta9n/xrlj07srclnE0haNc1PU7CmOWEoeBF3PVt8pbxEgQYvoDNGVGRO+5xo6L5N/3K8t+WjUbv0Rb0/KXK9rWI7n7JLuyY76ab8s3qqagzesvndv/XaI0KzXUy57br6cp+EinUynfucQHPwB8BULXyM2twfZbr6EpeLCUi37MNzRpETaF/WBf8U3qYUBMW4CmzIjoqSw8UtDca/v4UJW5Dk/RbWX/Rtfzj7zFy3LKbnVR843RT1n0J++gvVc0bGMfMj9RUJZwjn16zlTUn7yNhCM1YpmHXdfI4Pit1+unsJSLun7b38u1l3GFLS/cjK8pCt/PuFsMMU0BmjIjAs+3rYuiT1if6Vy50164c9m7awpP3Oom83CB7MCFf6ZueB//2yem+p80TbHmsPt/x6gqqgvX/BnP7Y+2lXVOoCmc92h7KvOSdp66i9ZHd2EZ/RSO3+LUlAfK5L/iv/hO+D9qbncpk0NRWZCm2PSFWS7qEbakR/5U3ILu5vyzTOYD/RTBBGjKjIieyp/lO/cmb4lKlCb8II1J2Lb3pOoG6rZcblBLV37g4fPpGtnxnw//EOQzd9GGrMIrt8j3aMWbvj/XeUaZtuJ979kfbdmpqJInfD4bXznp9Omr5HNZjyDZj7UdlylPdj2/OHgC3XllfZbcU3nwu1VRWZnK6kLFgdgcDf01/2623zpVUpG1Qoxryvuh++srLyg3B7jjuhMgUVa09mkuVZDHv+twZuIapCO+2/fX32ct16HqM5QjbMnavmVL8tGCsqrsfT/tPW17cwdiugM0BQICgs8ATYGAgOAzQFMgICD4DNAUCAgIPgM0BQICgs8ATYGAgOAzJtAUCAgIiMkGqSAETE0h/wIAAHg1QFMAAOAT0BQAAPgENAUAAD4BTQEAgE9AUwAA4JP/ZE3BTF3NHb+THwAAcAku1RTM1FmVsjla3Ut+fjlm6qjYE5dVoi7LiwrbUXLbhJFfMLE80alz46Nk8uJLD0fsK2EW461K+S5pYvZRjX7Euqj/YtJ7YvQv83i4bVS0m4jFgmXMdPd06ur4yscW9AnTl4fNJQ+ejGUZTc+INUcNDQWSQG98oWdgTEn7746qwga6qtJCt1c9Jj/jjD5u+jmaWFnsFiQdp2IFw6TbBmddTbShpbs2LniL44cEhsXQpJB+7IZKRDvRlr6GvIR4eam6KFWaVNFhGrMuZoFRQPYNuZvTG+MqTcFFoSI3adc3y93m2kuLGap3zAsv0Y+iD0NNGfMDd9T0OpcNM7Ud3bpScviG0UL9cszUrpQs3na45QmRjlbMBnXKHtVVrZW2XgHnEi6IN0/Kv/8ufJmnKIrQFMzcUbQjvaqZPHrtv1SJC+ZnNg/hZcCGdYrIJJXOOGzS16Qs9/FcU6J/ge9k1KhT58jitnzqIw5X2zQFM989tjksU91wQ9tYlRO+UCwKSmn8jfxSgLxO2+Csq4k2HOlRx/qLHD8kMIa6iqI3ZVQ0tNxorM7ZMk8sfi+tcRA/08MPSiS+UTVGVBJTW17oxylX+tnbNqOArBtyNSd+cJGmYKZHtx8NYhatfI69tKMPSzaL52RrSUl4qklcJA4p6mKUzXyvXLIkRH5jkFaDmFmvinhvbU4LvWKf38r/bFfFA/q6AmXMpO98ZBqzaLP9SE2xPNXe6HL0wka6ijYuSG8aQn8/1ciPtZFfEfX2F0UHfr3BBh7e7jZhJm32MoqmPGvOzKi1KS1mUEvcxIvydNzXtWnmtdoGV12NvyFm6analRC7zUeomjLUlLW79glZLItBHe0pWpmvGyLEcW6Y6hHxDTbalDHXXVppMBOrUXEqIPuGBvbmxBOu6qdYobUbIhMcp5/46L6rrp9auNEeVaTXO7vrfqOX+IW+fJPf7Li63+yNCjHWr0kmpnQX+62SHW0ykDsWNhRNofOiszgkxDbwoYI3AklIXusw+RGHoSmjvz7ud+wO1bn3yqJO/q5DU8Ok2wYFR12Nu6FFX5mQUWdoovyQwLD0P/6V6GEREG3jy+KukbEOxVLRMrnWNpB/rN4iWhBX94T8aMepgK+woXNzelOmUVMIgXSLriRznzj9jOzC+x1LPLy+3leYHBbo5rciKrf27gD2Enuuyw8S+X+TnpvyZaDnnBCpvLaLGCVipt62pvryvPgv5ojFbp+lXuyj7EugcGnKi66ileTAhwZmaj2SWtZOG04TVefQFBqYsUb6zqbiu0R3R8hMtm1QoNTVOBvig4LU7+sM9A6RkLEYa2JnhxZ3mcf663Z5MaXBY6minS6xzgWceEO25vSmTKOm4L2NknVuvqH5reiuB/Z/dXELxe9mNI86sgjTl6wVzfLaeKjFOGoxNhVs9BMHZjWbhlG7EfmF5TcZLaPGlkNh7h4fp1+n3owlbsEsFLPlpNDg0BTqwMfGiL6hNDd+lb94zrrUqk7KraJxNAUfn29dyRw5CpJJtg0KtLri2hAfFCTEV/VYMMYPCRdzR/GajcTo3vJYHSVmSsMsP3tvDMFawHE35GxOb8p0agp+VTFofgyd4xO4atOWyC+Xu8/yiq3rJ79CEPlmXx8bakz1FS1OaeymX7X6G5MXi31SG+nygfWoNrkRY1Fhw64pXAMfvCemPZsfvlDstl7R/ge5kFNTMPODssiIUsp9BwEzybbhgFlXbBvig4L4lMoe4tngzNCU4QclcZElHcQRvxjQ7JnNlAb6eJa9gBNtyN6c3pTp1RQHxOVlSZLGdn+KAPVpqbfoUY3gH7u6ir6kaIpVjJ3SEv1WqKKDx3HilMCqKVwDHytoOONOrUZ2TcEGb+REZGkMjvG5oJlk27AzTl05NiSuz5SnzkRwjBYFwNhgS0Fkar3B9qBz4tsiHAXse4UbMU7N6U0RhqagJ+pL/KPUqOdGBd219nYM/1CNBMu1A0NNmQtEdr0gNGWBXMvoGA9oZB/O0LEP28CHClMu2TQFXbgSS+6SjQkzGR49Fba4TLZtkHDXFdeG3OIlDIhRTHSZrXc5ZurreTpwPWO+n+2Yicc3bhHlPc+Jj05QC4gyaKINmc3pTRGAplj6GuThS7YqbTeKMLP+1I7lm3KanmIvh/UqqX/w4Q4zXr8YLiULgwt0wxjxgHlxiOIO8TDtWXP6SnTj+kWP5uCBo43W+7IjPard21T3nJ+2CQ0WTbF35s331dGr1sqv95v7GkvLLnQNEK1sbLApZ3PqJeKNAytOmmLp06TuLtA9s66CmR5pcuRVLI8ehcSk2wYB1yCRuSEFQWsKZjHUp0X/rCMPe8zUczEnrdqAmdoVG33JB51DHYr1AbKL6DUKewtxNAZGAdk2nKA5vSmu0hTM2HZWXZ4XHSia5bU65bi6ulH/B/b05snCtLioPQVVtyjvs2HDuoIQt0Xkq0rotcLYsLiCcnVxRnxWFXrug9axPL6miPomvvCEWpmZkHYaPfdB9RvkKfL/InafPLugTPDPkrGnurPqf+RvXyIWzQ1NLlJXXbW+Iow689bbQ8Ot+cG+/tHVhuFOVZS9aPKCCq2tuixPdRcqVbnRH3qI3demKE9WNepHXpq6SqL86d1gp+fuQuK12wa1rmxwbEhByJoy0lGydSH1xIlFC+Pr/g8VA79OZMbJUINPi9hRSmqlvYVQC8oooPOGI1zNiR9c208BAOA/HdAUAAD4BDQFAAA+AU0BAIBPQFMAAOAT0BQAAPgENAUAAD4BTQEAgE9AUwAA4BPQFAAA+AQ0BQAAPgFNAQCAT0BTAADgE9AUAHjb4dddz2WaQsxOsD3IE/37tvfHUbZ/1iZw8ouyM2bqOJkmk5eo1eWFu8KiaVu9RO42VTlxf5NlKzV66sx3mMVQE/9eNHPmNwHB5ek1amg4uCMuR6U+khKVWtHB7uTEqC5ilkzqf8fPQhPx/vGA235MiLB5ho1z6gmQG1YkYa9FbVEcdYv93lGRmZStVKtPKOK+Gc+gbnph9wwbL32YsJuiMZNi6tz1XKUp5o7iTZJM9WVtS0O1fKu/SByQ3DCIL2fzi3Iw2JDyQaLNiAPNKOOY0Qv7vb04asnWI1qj0/RlFn1l1KJxplmfbrg8vTDzg9JNPrG1RvywCW+AwP2NDPcJluoa6jgsy6i+Rnpnaa+WJy5dkH79d077MeHB2gbGOfUkA7r8uD2qm0bzgL4mdYWb77qSey846/bFYGPaIvskMuY7imC2mZymHw7PMK70YYHDFI2ZFFPorucaTcGGmvISa/rIw8Z6Krf6iT/IaxtDU5A5+UU5QHOgOWbcMfeqJJ7ba4zobzT/W0BwrnbQWa2RI8Gu2M2+wtUULk+vZ83py8QbVeR0Q6NNGe/6R6i7qeeapbowY2vjfauvK4Kc9+wpt/2Y4GBtA9yn3sbA5ZyDN8mCY/dLQucSc4xy1S2aCs83udF2QXpUvjEwusZg/SQg2D3DTFzp4wSXKZpTUkylu56LNMXy65NfHXNJEXMdUm3lODQFbxMR7j4rkmv0eE/P8qBcEpZJTBr4olu12d02/xUNok731Bla2CajFwocnl5j7Yq/eFAMFnorw+eyTxbPUV047BM+c02wKCjoheI69ezgmrJmY75ugLNu0WVZ6uX2WUrNPROGWborIkJ+auJyIJtGODzDJkgfO3hnhMUUzTkpptZdzzWaQgf7pTZq8dqiDsf8qJxJYp0GUey3OiFj/4+2wpva8laJ3TdnHEre8KGP33JpTo3NncRap0YL28TRAsXh6dVfF+dONW1BmsJuOslZXez9kfFn4RcKzEKxnnpWxkw6ZdqxNufeO80vjZyW0T80cV96+vHmx8K3E7B7htEL5pw+JBymaGxJMaXueq7XFHzEW7wuhD5s4UwS/Kvu2vjPAj/wFrsFx6vaUbtBHV0fXFMKWp5YLE9a8jd7iYIzmvDLOV6nKQlqPV47M0dTKJ5ehJ0CU1McNp0UuKqLvT8i6IGPA+dCOZ96JtiIvqEMJYaH3+o021zFdhh+aegmZcLywEVuszw/3V3Ocf9bQDg8w6iwpQ+C1TMMZ4KkmAp3PZdrirmrJCLO7hFBwpUk6NqyPqmu12zqrJSt9BQtjFDdM6OVKeYsQ40pPrN8kxt+t9cpR/UJD7qn14BG9o6TprB3cdmrawYPfHAYhWI99eR3NDBTT+v5vC3zxJ4hh9uf28vO8EvDRu6WSoJT6gxDprvqpOU+4nnScr2QvZ+onmEUWNMHB++MsHiGUYSGOyl4d9dzraZg/dqcuDTnjhZ7kqC+nxdpxIF/6q6NW4wE1fTv4hBvivUEkXvhKi1yDiMejDmCTacEA9PT603vp8zkgQ8OrVAcp56zFMT6lIRh1i0aLyyymbdYn6p6CLjvxvQMI+FKHxx2z7BXSwpU8zPV3wfvhiXvsEsvZup79CtZO+xJwrCtsToexdQaf0XPRxw3GvDc81uY3UIdH8+Afgq6sDA8vZ6gctnLi577zN2k0rOkEWt1zeiBDw6tUFynnvOuKjrj9ibhXLePr9JrbKA5PYj5IEkoEJ0LhmcYEhfu9GHAnk3cScG3u57LNGXUcPHHHQWEMzYO3mHVHNxbZXtQSquFYb06YUVobnO/ebAxLeCd3baXFMwG9Y4FyMoEM+tVEfPWKzqITBlqyliwjrjn70DomsLu6fV8pP3nUB9reTFzx+GQ95I16NmEvUJsGcXWaGb2wAeHVij0OgnHqSc9w8yGq2XH6pGvEw72W3OmNK3B5oPDUrePG5ODHCZHWHelJNhuEiQkuDzDONJnYs8wB46kmGJ3PddoCjGanWd7ac8a1hbD4hdl0OWt9ZwXX2swE+8+pm0J36NQnSovypSlnuwg6xq9KynduEuhqjieLtvr5EovbE0Zx9Nr1KDJkSYeLFcXpUp2296hHKBUCIu9FloF9Ue+dLx/YQMJjZM7veBgLRT7qbd7hnUP3z0hDfQWz1kdl/6TPPtQhdb6Ugpn3WKm9orkyC2yQ+XqE0Xpe9IqWG/6TjfsnmGPh7nS51U8w2w4kmKK3fVc1k8BAOCtADQFAAA+AU0BAIBPQFMAAOAT0BQAAPgENAUAAD4BTQEAgE9AUwAA4BPQFAAA+AQ0BQAAPgFNAQCAT0BTAADgE9AUAAD45D9BU/h1PAIA4E1wmaa8nmcYZjFcyd+6BG1F89Ya3/GIaY8kPPj0DKMwaqjZHeCYygjfW4GE+BWK+5RQwQa6qtJCt1fZDh7NTlCetDvzeIXqwN/WsnqGjVNAp72RWJ7o1LnxUTJ58aWHDq8SIcHuGYYv72vIS4iXl6qLUqVJFbZJPyiMtyHDWe15jyqCyER7iHmcuMtVmvJ6nmHDrQURqeW6J2bTvdrkzzzdwkv01uncxnU8srxVnmF2MEuPWjpPbJseDRvWKSKTVDrjsElfk7Lcx3NNid55altBMGrUqXNkcVs+9XHM7Yb11kYHrS25T5zYZ83py5mzhHAWkG1vBMR8zislh28YGXMyCggOzzA0Pa3EN6rGiA7c1JYX+nHKFfrk11wbsjmrme8cjv6xuqmFTJ8bJ2Tzl/M4cZdrNOX1PMNeDGgKD+lIuzVMX7JWZJs1czzHI+RI8BZ5htlBlgtxcZELbYn0VCM/1kZeikcflmxmt/UQAtjAw9vdJow2XyRxupfJtdbuJ94S9swmnG6Ij1Y4Csi2N4T5XrlkSYhjGn1Bwu4ZNoQmM5w/N0z1iPiGmEnTXVppoMzNxrUhq7PaU93VLke/nvcZi12kKa/nGUYFb2Trggt0w/hOxnE8crZHEiBT4RmGlPT7urstjEQiwVNOEpLXKuR54hlz0BKTktk1xfpxQVzdE+tHJ5wLyNCU0R5VpJdjMkqhwuEZNtahWEqpDWJGa3ptcGxIfrbicFajwv+Mxa7RFDqT8AyzgT3T/fzTMdsQkdPxCF2r30LPMFJJjc4XZwLM1HoktWw8125BQDt4op/iJ1H3WM84cUI5WwhbAelVgXdsl3h4fb2vMDks0M1vRVRuLdMMSIDYPcPG+ut2eTE1xYPwcmWF1WyMw1ltCmYsdr2mTNIz7OUfDxtO5Met9hP5h6acJuc0tkF3PJrAHkmQ8OEZhqaJt3q7OGnKiL6hNDd+lb94zrpUp1l7BQb94F/cK1nj67n6EDHb89hvdbtni4IymhjX2HEK6KxQs7w2HmoxjlqMTQUb/cSBWc0mgd5eInF4hlkeI0sNhqZQmwodptnYeM5qU2HV4nJNmZRnGMmYqbf1fJ7EX+SzUnH7ObmQxOZ49Mer2CMJDF48wxxKyqIpOHinTns2P3yh2G29ot06IbYwYRw8ZjFczFzt7/nhqm/Ct2741FfsvquO1eGYvYC0vdG7OdhQY6qvaHFKI8uwUjBQPcOst5MYmmL1gXaG3WyMw1ltSqxaXKsp2KQ8w+igEdN8ZsLgoG1DFR2DhJZTH4/hMdE+pxWePMMI6WEWnKmnaITlLujaYBdEK6jPMjdAdpFh80nFqYC0vaGrMbUxoJwUcm0wPcMmvp9CwmE2RsJ0VpsiqxZXagq36dGraApqJcEsY0g2x6MZ0E9x9rV6Q88wBHdaksor5Lu0XAdPvHQzL5Y07uSCWUD63tBzE29H40E5GSzXko8UBQabZ9jA9Yz5frYzbnVQiyjvYXbZOczGHKC8oNyhm4qBD47LNOU1PMOGDI2qYxe6rJtgg9czN2U1GF/J8UjomjIpzzBnX6hX0RRLX2Np2YUu6+B5bLApZ3PqJeLtBsHCqimjhobcsMVRR+1vcNlrwzx+ARl7G9arpP6kWSo21JS5kHyGKDS4PMNM7YqNvqQJ1FCHYj3Za3O0DdYNz3T/wuGshpgqj0rXaMrreYb1d52I/dhN7LcqJiM7W55/Smskhgmv4HgkbE2ZpGcY1ReK0zPMCiWRRjpVUfZakhdUaAX8opflqe5CpSo3+kMPsfvaFOXJqkb9CGbUVRxKjf1bUv5pnfW8W7HXxjBXAdn2hhYbmhSxYXEF5erijPgsxq1KocDuGWbzV8yMkxWeUCvTInbY3ip21AaX2RirsxoBGvgsnYqbSi7rpwAA8FYAmgIAAJ+ApgAAwCegKQAA8AloCgAAfAKaAgAAn4CmAADAJxNoCgQEBMRkg1QQApqmAAAAvCGgKQAA8AloCgAAfAKaAgAAn4CmAADAJ6ApAADwCWgKAAB8ApoCAAB/vHz5/2IkLvd8n8NsAAAAAElFTkSuQmCC)\n",
        "\n",
        "Considerando o nível de significância $\\alpha = 0,10$, há evidência suficiente para concordar com a afirmação da agência? (Adaptado de *U.S. Bureau of Labor Statistics*)"
      ],
      "metadata": {
        "id": "4MJ-klvZ_LpI"
      }
    },
    {
      "cell_type": "code",
      "source": [
        "# Conjunto de dados - Pandas Series\n",
        "salarios = pd.Series([19665, 17312, 19794, 20403,\n",
        "                      21864, 20177, 18328, 22445,\n",
        "                      21354, 20143, 19316, 20237])\n",
        "media = salarios.mean()\n",
        "desv_pad = salarios.std()\n",
        "'''Escreva as hipóteses nula e alternativa, indicando a afirmação.'''\n",
        "# H0: mu <= 18500 (afirmação)\n",
        "# Ha: mu > 18500\n",
        "p_valor = fest.teste_t(est_amostral=media, n_amostras=12, alpha=0.10,\n",
        "            mu=18500, s_amostral=desv_pad, teste='dir')\n"
      ],
      "metadata": {
        "id": "O2R24dj_BN89",
        "colab": {
          "base_uri": "https://localhost:8080/"
        },
        "outputId": "9cb62782-c68f-48ee-d9fb-b19251b66318"
      },
      "execution_count": 29,
      "outputs": [
        {
          "output_type": "stream",
          "name": "stdout",
          "text": [
            "*** Teste de hipótese para a média (sigma desconhecido) ***\n",
            "Teste unilateral à direita com t0 = 1.363430\n",
            "Hipótese nula rejeitada ao nível de significância 10.0%\n"
          ]
        }
      ]
    },
    {
      "cell_type": "code",
      "source": [
        "#@title Interpretação\n",
        "Int_Q2 = \"Podemos concluir que, de acordo com essa amostra afirmacao da agencia de empregos esta errada, o salario medio para mulheres, com menos de 25 anos e sem ensio medio e maior que 18500 dolares\" #@param {type:\"string\"}"
      ],
      "metadata": {
        "id": "W4ULhDLWCHfw"
      },
      "execution_count": 30,
      "outputs": []
    },
    {
      "cell_type": "markdown",
      "source": [
        "## Questão 03 - Tempo de espera em um hospital\n",
        "\n",
        "(1,6 pts) O porta-voz de um hospital afirma que o desvio padrão dos tempos de espera dos pacientes no departamento de emergência é não mais que 0,5 minuto. Uma amostra aleatória de 25 tempos de espera tem um desvio padrão de 0,7 minuto. Para o nível de significância $\\alpha = 0,10$, há evidência suficiente para rejeitar a afirmação do porta-voz?"
      ],
      "metadata": {
        "id": "SYioLi3XCumo"
      }
    },
    {
      "cell_type": "code",
      "source": [
        "'''Escreva as hipóteses nula e alternativa, indicando a afirmação.'''\n",
        "# H0: sigma <= 0.5 (afirmação)\n",
        "# Ha: sigma > 0.5\n",
        "p_valor = fest.teste_chi2(est_amostral=0.7, pop=0.5, n_amostras=25, alpha=0.10,\n",
        "               teste='dir', parametro='pad')"
      ],
      "metadata": {
        "id": "RUUpSlLBDG36",
        "colab": {
          "base_uri": "https://localhost:8080/"
        },
        "outputId": "69677a6d-c1e9-4e8c-9fa9-c57a32d967dc"
      },
      "execution_count": 31,
      "outputs": [
        {
          "output_type": "stream",
          "name": "stdout",
          "text": [
            "*** Teste de hipótese para desvio padrão ***\n",
            "Teste unilateral à direita com:\n",
            "Estatística de teste padronizada = 47.0400\n",
            "Valor chi-quadrado crítico = 33.1962\n",
            "Hipótese nula rejeitada ao nível de significância 10.0%\n"
          ]
        }
      ]
    },
    {
      "cell_type": "code",
      "source": [
        "#@title Interpretação\n",
        "Int_Q3 = \"Podemos concluir que, com essa amostra, a afirmacao do porta-voz do hospital esta errada, o desvio padrao dos tempos de espera dos pacientes na emergencia e maior que 0.5 minuto\" #@param {type:\"string\"}"
      ],
      "metadata": {
        "id": "8kjlwdahERI-"
      },
      "execution_count": 32,
      "outputs": []
    },
    {
      "cell_type": "markdown",
      "source": [
        "## Questão 04 - Pontuação no ACT\n",
        "\n",
        "(1,6 pts.) Um orientador afirma que estudantes do ensino médio em um programa preparatório para faculdade têm maior pontuação no ACT que aqueles em um programa geral.\n",
        "\n",
        "*   A pontuação média no ACT para 49 estudantes do ensino médio que estão em um programa preparatório para faculdade é 22,2, com desvio padrão populacional histórico de 4,8.\n",
        "*   A pontuação média no ACT para 44 estudantes do ensino médio que estão em um programa geral é 20,0, com desvio padrão populacional histórico de 5,4.\n",
        "\n",
        "Para $\\alpha=0,10$, você pode confirmar a afirmação do orientador? (Adaptado de *ACT, Inc.*)"
      ],
      "metadata": {
        "id": "QmaFpC1QFUOx"
      }
    },
    {
      "cell_type": "code",
      "source": [
        "'''Escreva as hipóteses nula e alternativa, indicando a afirmação.'''\n",
        "# H0: mu_prep <= mu_geral\n",
        "# Ha: mu_prep > mu_geral (afirmação)\n",
        "zpad,z0 = fest.teste_z2(xbarra_1=22.2, sig_1=4.8, n_1=49,\n",
        "                        xbarra_2=20.0, sig_2=5.4, n_2=44,\n",
        "                        alpha=0.10, teste='dir')"
      ],
      "metadata": {
        "id": "pNEwEsDrF96D",
        "colab": {
          "base_uri": "https://localhost:8080/"
        },
        "outputId": "05690818-4228-4181-b19b-5c4ceb39bd1f"
      },
      "execution_count": 33,
      "outputs": [
        {
          "output_type": "stream",
          "name": "stdout",
          "text": [
            "*** Teste de hipótese para a diferença entre médias populacionais ***\n",
            "-> Desvios padrão populacionais conhecidos\n",
            "-> Teste unilateral à direita com z_padrão = 2.066907 e z0 = 1.281552\n",
            "Hipótese nula rejeitada ao nível de significância 10.0%\n"
          ]
        }
      ]
    },
    {
      "cell_type": "code",
      "source": [
        "#@title Interpretação\n",
        "Int_Q4 = \"Podemos concluir, com essas amostras, que a afirmacao do orientador esta correta, estudantes com programa preparaorio tem maior pontuacao no ACT que aqueles em um programa geral\" #@param {type:\"string\"}"
      ],
      "metadata": {
        "id": "XmPZYRz-HMIe"
      },
      "execution_count": 34,
      "outputs": []
    },
    {
      "cell_type": "markdown",
      "source": [
        "## Questão 05 - Resistência à tração\n",
        "\n",
        "(1,6 pts.) A resistência à tração de um metal é uma medida de sua capacidade para resistir à deformação quando puxado longitudinalmente. Um novo tipo de tratamento experimental produziu barras de aço com as resistências à tração (em newtons\n",
        "por milímetro quadrado [$N/mm^2$]) listadas a seguir:\n",
        "\n",
        "![P2-Q5-01.png](data:image/png;base64,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)\n",
        "\n",
        "O método antigo produzia barras de aço com as resistências à tração (em $N/mm^2$) listadas a seguir.\n",
        "\n",
        "![P2-Q5-02.png](data:image/png;base64,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)\n",
        "\n",
        "Para $\\alpha = 0,01$, você pode concordar com a afirmação de que o novo tratamento faz diferença na resistência à tração das barras de aço? Suponha que as variâncias populacionais são iguais."
      ],
      "metadata": {
        "id": "KiGhrXMDHN7W"
      }
    },
    {
      "cell_type": "code",
      "source": [
        "# Conjunto de dados - Pandas Series\n",
        "exp = pd.Series([391, 383, 333, 378, 368, 401, 339, 376, 366, 348])\n",
        "antigo = pd.Series([362, 382, 368, 398, 381, 391, 400, 410, 396, 411, 385, 385, 395])\n",
        "media_exp = exp.mean()\n",
        "des_pad_exp = exp.std()\n",
        "media_antigo = antigo.mean()\n",
        "des_pad_antigo = antigo.std()\n",
        "'''Escreva as hipóteses nula e alternativa, indicando a afirmação.'''\n",
        "# H0: mu_exp = mu_antigo\n",
        "# Ha: mu_exp != mu_antigo (afirmação)\n",
        "zpad, z0 = fest.teste_t2(xbarra_1=media_exp, s_1=des_pad_exp, n_1=10,\n",
        "                         xbarra_2=media_antigo, s_2=des_pad_antigo, n_2=10,\n",
        "                         alpha=0.01, var='!=', teste='bilateral')"
      ],
      "metadata": {
        "id": "dw6haokHIQ2R",
        "colab": {
          "base_uri": "https://localhost:8080/"
        },
        "outputId": "85e60a32-fe9f-4ccd-a6ab-c92036892401"
      },
      "execution_count": 35,
      "outputs": [
        {
          "output_type": "stream",
          "name": "stdout",
          "text": [
            "*** Teste de hipótese para a diferença entre médias populacionais ***\n",
            "-> Desvios padrão populacionais desconhecidos\n",
            "-> Teste bilateral com t_padrão = -2.524194, t01 = -3.249836 e t02 = 3.249836\n",
            "Hipótese nula NÃO rejeitada ao nível de significância 1.0%\n"
          ]
        }
      ]
    },
    {
      "cell_type": "code",
      "source": [
        "#@title Interpretação\n",
        "Int_Q5 = \"Podemos concluir, com essas amostras, que o novo tratamento nao faz diferenca na resistencia da tracao das barras de aco\" #@param {type:\"string\"}"
      ],
      "metadata": {
        "id": "oVQa_i1uKB1e"
      },
      "execution_count": 36,
      "outputs": []
    },
    {
      "cell_type": "markdown",
      "source": [
        "## Questão 06 - Pneumonia\n",
        "\n",
        "(1,6 pts.) Um cientista afirma que pneumonia causa perda de peso em ratos. A tabela a seguir mostra os pesos (em gramas) de seis ratos antes e dois dias após a infecção.\n",
        "\n",
        "![P2-Q6.png](data:image/png;base64,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)\n",
        "\n",
        "Para $\\alpha = 0,01$, há evidência suficiente para concordar com a afirmação do cientista? (Adaptado de *U.S. National Library of Medicine*)"
      ],
      "metadata": {
        "id": "J-LEVFdsKELA"
      }
    },
    {
      "cell_type": "code",
      "source": [
        "from scipy import stats as st\n",
        "# Conjunto de dados - Pandas DataFrames\n",
        "ratos = pd.DataFrame({'Antes': [19.8, 20.6, 20.3, 22.1, 23.4, 23.6],\n",
        "                      'Depois': [18.4, 19.6, 19.6, 20.7, 22.2, 23.0]})\n",
        "''' Escreva a variável de desvio adotada'''\n",
        "# d = (peso antes da pneumonia) - (peso depois da pneumonia)\n",
        "'''Escreva as hipóteses nula e alternativa, indicando a afirmação.'''\n",
        "# H0: mu_d <= 0\n",
        "# Ha: mu_d > 0 (afirmação)\n",
        "tpadrao, p_valor = st.ttest_rel(a=ratos['Antes'], b=ratos['Depois'],\n",
        "                                alternative='greater')\n",
        "print('*** Teste de amostras emparelhadas ***')\n",
        "alpha = 0.01\n",
        "if p_valor <= alpha:\n",
        "  print(f'Hipótese nula rejeitada ao nível de significância de {alpha*100:.2f}%')\n",
        "else:\n",
        "  print(f'Hipótese nula NÃO rejeitada ao nível de significância de {alpha*100:.2f}%')"
      ],
      "metadata": {
        "id": "EgNp9ujgKxS4",
        "colab": {
          "base_uri": "https://localhost:8080/"
        },
        "outputId": "04aa8630-abee-43a3-a29b-92906cbb38d6"
      },
      "execution_count": 37,
      "outputs": [
        {
          "output_type": "stream",
          "name": "stdout",
          "text": [
            "*** Teste de amostras emparelhadas ***\n",
            "Hipótese nula rejeitada ao nível de significância de 1.00%\n"
          ]
        }
      ]
    },
    {
      "cell_type": "code",
      "source": [
        "#@title Interpretação\n",
        "Int_Q6 = \"Podemos concluir, com essas amostras, que a afirmacao do cientista esta correta, ha perda de peso nos ratos apos a pneumonia\" #@param {type:\"string\"}"
      ],
      "metadata": {
        "id": "RVWyhqroL24K"
      },
      "execution_count": 38,
      "outputs": []
    },
    {
      "cell_type": "markdown",
      "source": [
        "## Questão 07 - Idade e horas de sono\n",
        "\n",
        "As idades (em anos) de 10 crianças e a quantidade diária de horas de sono de cada uma delas são registradas a seguir:\n",
        "\n",
        "![P2-Q7.png](data:image/png;base64,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)\n",
        "\n",
        "**a)** (0,5 pt.) Construa o diagrama de dispersão dos dados e descreva o tipo de correlação existente."
      ],
      "metadata": {
        "id": "VAXZJ7vMMstt"
      }
    },
    {
      "cell_type": "code",
      "source": [
        "# Dados\n",
        "idade = pd.Series([0.1, 0.2, 0.4, 0.7, 0.6, 0.9, 0.1, 0.2, 0.4, 0.9])\n",
        "horas_sono = pd.Series([14.9, 14.5, 13.9, 14.1, 13.9, 13.7, 14.3, 13.9, 14.0, 14.1])\n",
        "# Diagrama de dispersão\n",
        "plt.scatter(idade, horas_sono, c='maroon')\n",
        "plt.xlabel('Horas de sono')\n",
        "plt.ylabel('Idade (em anos)')\n",
        "plt.grid()"
      ],
      "metadata": {
        "id": "SFQTz0_-NJ-u",
        "colab": {
          "base_uri": "https://localhost:8080/",
          "height": 279
        },
        "outputId": "7134918b-f233-4b45-d5ae-2da0ed5e0b0c"
      },
      "execution_count": 39,
      "outputs": [
        {
          "output_type": "display_data",
          "data": {
            "text/plain": [
              "<Figure size 432x288 with 1 Axes>"
            ],
            "image/png": "[encoded data removed]"
          },
          "metadata": {
            "needs_background": "light"
          }
        }
      ]
    },
    {
      "cell_type": "code",
      "source": [
        "#@title Análise\n",
        "parecer = \"Correlacao linear negativa\" #@param [\" --- \", \"Nao ha correlacao\", \"Correlacao linear positiva \", \"Correlacao linear negativa\", \"Correlacao nao-linear\"]"
      ],
      "metadata": {
        "id": "ZLcNS4YvOI-C"
      },
      "execution_count": 40,
      "outputs": []
    },
    {
      "cell_type": "markdown",
      "source": [
        "**b)** (0,5 pt.) Calcule o coeficiente de correlação."
      ],
      "metadata": {
        "id": "Sz1EtOCXOJ2J"
      }
    },
    {
      "cell_type": "code",
      "source": [
        "# Cálculo do coeficiente de correlação\n",
        "r, p_valor = st.pearsonr(idade, horas_sono)\n",
        "# Exibição do valor\n",
        "print(f'Coeficiente de correlação = {r:.3f}')"
      ],
      "metadata": {
        "id": "qug44RwYOfey",
        "colab": {
          "base_uri": "https://localhost:8080/"
        },
        "outputId": "bad0d833-ace1-4cd4-db05-4cb60cb955af"
      },
      "execution_count": 41,
      "outputs": [
        {
          "output_type": "stream",
          "name": "stdout",
          "text": [
            "Coeficiente de correlação = -0.604\n"
          ]
        }
      ]
    },
    {
      "cell_type": "markdown",
      "source": [
        "**c)** (0,5 pt.) Determine a equação da reta de regressão linear."
      ],
      "metadata": {
        "id": "ph8mo1L5O52K"
      }
    },
    {
      "cell_type": "code",
      "source": [
        "# Criação do objeto regressão linear \n",
        "regressao_sono = LinearRegression()\n",
        "# Cálculo da reta de regressão\n",
        "regressao_sono.fit(np.array(idade).reshape(-1,1), np.array(horas_sono).reshape(-1,1) )\n",
        "# Exibição dos coeficientes da reta\n",
        "inclinacao = regressao_sono.coef_[0][0]\n",
        "intercepto = regressao_sono.intercept_[0]\n",
        "print(f'Reta de regressão: y = {inclinacao:.3f}x + {intercepto:.3f}')"
      ],
      "metadata": {
        "id": "jLFjaXdHPhFE",
        "colab": {
          "base_uri": "https://localhost:8080/"
        },
        "outputId": "e36c2476-3be8-4692-919d-6e5e3b6bd7e5"
      },
      "execution_count": 42,
      "outputs": [
        {
          "output_type": "stream",
          "name": "stdout",
          "text": [
            "Reta de regressão: y = -0.688x + 14.440\n"
          ]
        }
      ]
    },
    {
      "cell_type": "markdown",
      "source": [
        "**d)** (0,5 pt.) Quantas horas de sono diárias são esperadas para crianças de 0,3, 0,8 e 1,2 anos?"
      ],
      "metadata": {
        "id": "vvUdfdnBQQ4m"
      }
    },
    {
      "cell_type": "code",
      "source": [
        "# Previsões desejadas\n",
        "idades_desejadas =  np.array([0.3, 0.8, 1.2]).reshape(-1,1)\n",
        "sono_previsto =  regressao_sono.predict(idades_desejadas)\n",
        "print('*** Horas de sono previstas ***')\n",
        "for prev in range(len(sono_previsto)):\n",
        "  print(f'{idades_desejadas[prev][0]} anos --> {sono_previsto[prev][0]:.2f} horas de sono')"
      ],
      "metadata": {
        "id": "onM7hlVaQrYx",
        "colab": {
          "base_uri": "https://localhost:8080/"
        },
        "outputId": "c22aed91-2ec0-4da3-a6dd-0f4ea78e5873"
      },
      "execution_count": 44,
      "outputs": [
        {
          "output_type": "stream",
          "name": "stdout",
          "text": [
            "*** Horas de sono previstas ***\n",
            "0.3 anos --> 14.23 horas de sono\n",
            "0.8 anos --> 13.89 horas de sono\n",
            "1.2 anos --> 13.61 horas de sono\n"
          ]
        }
      ]
    }
  ]
}
