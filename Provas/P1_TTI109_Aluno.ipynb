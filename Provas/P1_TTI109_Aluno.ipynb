{
  "nbformat": 4,
  "nbformat_minor": 0,
  "metadata": {
    "colab": {
      "provenance": [],
      "collapsed_sections": []
    },
    "kernelspec": {
      "name": "python3",
      "display_name": "Python 3"
    },
    "language_info": {
      "name": "python"
    }
  },
  "cells": [
    {
      "cell_type": "markdown",
      "source": [
        "# Prova P1 - TTI109 - Estatística (CIC-SIN)\n",
        "## Instruções\n",
        "\n",
        "\n",
        "*   Preencha corretamente os campos de identificação (nome completo e RA).\n",
        "*   Execute a célula de código que contém tais campos.\n",
        "*   É permitida a consulta ao material da disciplina (OPEN-LMS).\n",
        "*   É permitida a consulta ao GitHub pessoal.\n",
        "*   A prova consta de 4 questões, cada uma com valor de 2,5 pontos.\n",
        "*   Nas questões, grande parte do código já é fornecida. Preencha as lacunas ***'''Seu código aqui'''*** com sua solução.\n",
        "*   Quando pertinente, responda às questões dissertativas nos campos a elas destinados.\n",
        "*   Execute a célula de código que contém esses campos.\n",
        "\n",
        "\n",
        "\n",
        "\n",
        "\n",
        "\n",
        "\n",
        "\n"
      ],
      "metadata": {
        "id": "N5lOrc7mi89a"
      }
    },
    {
      "cell_type": "code",
      "execution_count": 59,
      "metadata": {
        "id": "pfjNqp4Gi2zm"
      },
      "outputs": [],
      "source": [
        "#@title Identificação\n",
        "Nome = \"Fernando Freitas de Oliveira\" #@param {type:\"string\"}\n",
        "RA = \"19.00468-0\" #@param {type:\"string\"}\n"
      ]
    },
    {
      "cell_type": "markdown",
      "source": [
        "## Questão 01 - Construção e análise de histogramas\n",
        "Um fabricante de refrigerantes informa que o volume de SuperCoke contido na garrafa PET é de 385,50 ml. Para verificar se o processo de envasamento está dentro dessa especificação, uma amostra de 24 garrafas foi cuidadosamente examinada. Os volumes aferidos são mostrado na tabela abaixo.\n",
        "\n",
        "![P1-Q1.png](data:image/png;base64,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)\n",
        "\n",
        "**(a)** (1,0) Construa um histograma representativo da distribuição de volumes de SuperCoke, usando 8 classes."
      ],
      "metadata": {
        "id": "8OBehzILk8Ie"
      }
    },
    {
      "cell_type": "code",
      "source": [
        "import pandas as pd\n",
        " # Conjunto de dados - Pandas Series\n",
        "volumes = pd.Series([383.93, 383.29, 385.21, 383.61, 384.89, 382.64,\n",
        "                      385.54, 383.61, 382.97, 382.97, 381.04, 383.61,\n",
        "                      382.00, 384.89, 383.93, 383.61, 388.75, 385.86,\n",
        "                      381.68, 383.29, 385.54, 383.93, 385.21, 383.61])\n",
        "# Valores máximo e mínimo da distribuição\n",
        "v_max = volumes.max()\n",
        "v_min = volumes.min()\n",
        "n_classes = 8\n",
        "# Cálculo da amplitude de classe, com respectivos intervalos de classe\n",
        "amplitude = round((v_max-v_min)/n_classes)\n",
        "intervalos = pd.interval_range(start=v_min, end=v_max, freq=amplitude)\n",
        "# Cálculo dos pontos médios das classe\n",
        "pts_medios = [inter.mid for inter in intervalos]\n",
        "# Determinação dos limites das barras (variável que deve ser inserida no\n",
        "# parâmetro bins do método hist)\n",
        "lim_barras = [inter.left for inter in intervalos]+[intervalos[-1].right]\n",
        "# Construção do histograma\n",
        "hist_volumes = volumes.hist(bins=[inter.left for inter in intervalos]+[v_max],\n",
        "                       color='blue', edgecolor='black', grid=False)\n",
        "# Inserção de atributos ao gráfico\n",
        "hist_volumes.set(xlabel='Volume [ml]', ylabel='Frequência',\n",
        "               title = 'Distribuição de frequências dos volumes de SuperCoke',\n",
        "               xticks = pts_medios)"
      ],
      "metadata": {
        "id": "NCZ7XeAtkydv",
        "colab": {
          "base_uri": "https://localhost:8080/",
          "height": 469
        },
        "outputId": "7135be13-534a-45da-d147-f0d396f401aa"
      },
      "execution_count": 38,
      "outputs": [
        {
          "output_type": "execute_result",
          "data": {
            "text/plain": [
              "[Text(0, 0.5, 'Frequência'),\n",
              " [<matplotlib.axis.XTick at 0x7fe2d30a52d0>,\n",
              "  <matplotlib.axis.XTick at 0x7fe2d30a5710>,\n",
              "  <matplotlib.axis.XTick at 0x7fe2c57011d0>,\n",
              "  <matplotlib.axis.XTick at 0x7fe2c565e0d0>,\n",
              "  <matplotlib.axis.XTick at 0x7fe2c565e690>,\n",
              "  <matplotlib.axis.XTick at 0x7fe2c565ebd0>,\n",
              "  <matplotlib.axis.XTick at 0x7fe2c56620d0>],\n",
              " Text(0.5, 0, 'Volume [ml]'),\n",
              " Text(0.5, 1.0, 'Distribuição de frequências dos volumes de SuperCoke')]"
            ]
          },
          "metadata": {},
          "execution_count": 38
        },
        {
          "output_type": "display_data",
          "data": {
            "text/plain": [
              "<Figure size 432x288 with 1 Axes>"
            ],
            "image/png": "[encoded data removed]"
          },
          "metadata": {
            "needs_background": "light"
          }
        }
      ]
    },
    {
      "cell_type": "markdown",
      "source": [
        "**(b)** (0,5) A análise do histograma indica a ocorrência de algum valor incomum? Justifique sua resposta."
      ],
      "metadata": {
        "id": "B09nOYmP-iwu"
      }
    },
    {
      "cell_type": "code",
      "source": [
        "#@title Resposta\n",
        "Resp_Q1_b = \"A analise apresenta um valor incomum representado pela classe 7, de frequencia 1, com valor medio 387.54, onde esta coluna apresenta-se desconectada do restante do histograma, podendo chamar esse valor de outlier\" #@param {type:\"string\"}\n"
      ],
      "metadata": {
        "id": "BzPxSaF7_Yji"
      },
      "execution_count": 58,
      "outputs": []
    },
    {
      "cell_type": "markdown",
      "source": [
        "**(c)** (0,5) Calcule a média, a mediana e o desvio padrão da distribuição de volumes de SuperCoke."
      ],
      "metadata": {
        "id": "wpaZqsKcAHYS"
      }
    },
    {
      "cell_type": "code",
      "source": [
        "# Cálculo da média\n",
        "media_volumes = volumes.mean()\n",
        "print(f'Volume médio = {media_volumes:.2f} ml')\n",
        "# Cálculo da mediana\n",
        "mediana_volumes = volumes.median()\n",
        "print(f'Mediana = {mediana_volumes:.2f} ml')\n",
        "# Cálculo do desvio padrão\n",
        "desv_pad_volumes = volumes.std(ddof=1)\n",
        "print(f'Desvio Padrão = {desv_pad_volumes:.2f} ml')"
      ],
      "metadata": {
        "id": "uuXOtiOd6ZQi",
        "colab": {
          "base_uri": "https://localhost:8080/"
        },
        "outputId": "cd818188-83e0-4903-a5db-28e494bce3a9"
      },
      "execution_count": 40,
      "outputs": [
        {
          "output_type": "stream",
          "name": "stdout",
          "text": [
            "Volume médio = 383.98 ml\n",
            "Mediana = 383.61 ml\n",
            "Desvio Padrão = 1.60 ml\n"
          ]
        }
      ]
    },
    {
      "cell_type": "markdown",
      "source": [
        "Execute o código a seguir, que constrói um boxplot representativo da distribuição de volumes de SuperCoke. O ponto marcado em azul representa o volume declarado na garrafa PET."
      ],
      "metadata": {
        "id": "5S7CcmLlCtI3"
      }
    },
    {
      "cell_type": "code",
      "source": [
        "import matplotlib.pyplot as plt\n",
        "boxplot_volumes = pd.DataFrame(volumes).boxplot(showmeans=True,\n",
        "                                                whis=1.5, vert=False)\n",
        "plt.title('Distribuição dos volumes de SuperCoke')\n",
        "plt.xlabel('Volumes [ml]')\n",
        "plt.scatter(385.5,1)\n"
      ],
      "metadata": {
        "id": "kNGt5SYoBDib",
        "colab": {
          "base_uri": "https://localhost:8080/",
          "height": 312
        },
        "outputId": "b7623873-5cfa-483c-94a8-b35084dd24c2"
      },
      "execution_count": 41,
      "outputs": [
        {
          "output_type": "execute_result",
          "data": {
            "text/plain": [
              "<matplotlib.collections.PathCollection at 0x7fe2c5675790>"
            ]
          },
          "metadata": {},
          "execution_count": 41
        },
        {
          "output_type": "display_data",
          "data": {
            "text/plain": [
              "<Figure size 432x288 with 1 Axes>"
            ],
            "image/png": "[encoded data removed]"
          },
          "metadata": {
            "needs_background": "light"
          }
        }
      ]
    },
    {
      "cell_type": "markdown",
      "source": [
        "**(d)** (0,5) Com base nos resultados anteriores e no boxplot gerado, o consumidor de SuperCoke está realmente recebendo o volume declarado pelo fabricante? Justifique sua resposta."
      ],
      "metadata": {
        "id": "vgfKZr8ADdOZ"
      }
    },
    {
      "cell_type": "code",
      "source": [
        "#@title Resposta\n",
        "Resp_Q1_d = \"Nao, pois mais de 75% das garrafas de SuperCoke estao vindo com um volume menor do que o rotulado na garrafa e o volume medio das garrafas produzidas e de 383.98 ml, menor do que o volume rotulado de 385,50 ml\" #@param {type:\"string\"}\n",
        "\n"
      ],
      "metadata": {
        "id": "qFjHaZsdE8D0"
      },
      "execution_count": 57,
      "outputs": []
    },
    {
      "cell_type": "markdown",
      "source": [
        "# Questão 02 - Detecção de outliers\n",
        "Os pesos (em libras) dos jogadores da defesa de um time de futebol americano colegial estão listados a seguir.\n",
        "\n",
        "![P1-Q2.png](data:image/png;base64,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)\n",
        "\n",
        "**(a)** (0,5) Calcule a média da distribuição e os respectivos quartis."
      ],
      "metadata": {
        "id": "7_jtLk5CIYS1"
      }
    },
    {
      "cell_type": "code",
      "source": [
        "import pandas as pd\n",
        "import matplotlib.pyplot as plt\n",
        "# Conjunto de dados\n",
        "pesos = pd.Series([173, 120, 205, 192, 227, 156, 265, 172, 185,\n",
        "                   208, 185, 190, 167, 212, 228, 190, 195])\n",
        "# Cálculo da média\n",
        "media_pesos = pesos.mean()\n",
        "print(f'Peso médio = {media_pesos:.2f} libras')\n",
        "# Cálculo dos quartis\n",
        "quartis = pesos.quantile([0.25, 0.5, 0.75], interpolation='linear')\n",
        "print('** Quartis - Distribuição de Pesos ** **')\n",
        "display(quartis)"
      ],
      "metadata": {
        "id": "P_UJk4fwMLVU",
        "colab": {
          "base_uri": "https://localhost:8080/",
          "height": 121
        },
        "outputId": "5e8de7bc-f519-4374-fbb7-b7add1724fa3"
      },
      "execution_count": 43,
      "outputs": [
        {
          "output_type": "stream",
          "name": "stdout",
          "text": [
            "Peso médio = 192.35 libras\n",
            "** Quartis - Distribuição de Pesos ** **\n"
          ]
        },
        {
          "output_type": "display_data",
          "data": {
            "text/plain": [
              "0.25    173.0\n",
              "0.50    190.0\n",
              "0.75    208.0\n",
              "dtype: float64"
            ]
          },
          "metadata": {}
        }
      ]
    },
    {
      "cell_type": "markdown",
      "source": [
        "**(b)** (0,5) A partir do resultado do item anterior, classifique a distribuição quanto a sua simetria. Justifique sua resposta."
      ],
      "metadata": {
        "id": "65UnugdTPFjI"
      }
    },
    {
      "cell_type": "code",
      "source": [
        "#@title Resposta\n",
        "Resp_Q2_b1 = \"Assimetrica a direita\" #@param [\"Escolha...\", \"Simetrica\", \"Assimetrica a direita\", \"Assimetrica a esquerda\"]\n",
        "Resp_Q2_b2 = \"Pois o segundo quartil, que representa 50% da distribuicao dos pesos e igual a 190 libras, sendo menor que a media da distribuicao de 192.35 libras\" #@param {type:\"string\"}\n",
        "\n"
      ],
      "metadata": {
        "id": "6FQiDYYSP53C"
      },
      "execution_count": 44,
      "outputs": []
    },
    {
      "cell_type": "markdown",
      "source": [
        "**(c)** (1,0) Investigue a ocorrência de outliers, empregando o método da amplitude interquartil."
      ],
      "metadata": {
        "id": "q5ZWBrIcRGtV"
      }
    },
    {
      "cell_type": "code",
      "source": [
        "# Calculando a amplitude interquartil\n",
        "interquartil = quartis[0.75] - quartis[0.25]\n",
        "print(f'Amplitude interquartil: {interquartil}')\n",
        "# Limites para detecção de outliers\n",
        "lim_min = quartis[0.25] - 1.5*interquartil\n",
        "lim_max = quartis[0.75] + 1.5*interquartil\n",
        "# Procurando por outliers\n",
        "out_inf = pesos.loc[pesos <= lim_min]\n",
        "print('Outlier inferior:', out_inf.iloc[0])\n",
        "out_sup = pesos.loc[pesos >= lim_max]\n",
        "print('Outlier superior:', out_sup.iloc[0])"
      ],
      "metadata": {
        "id": "X0Expwg4RP0F",
        "colab": {
          "base_uri": "https://localhost:8080/"
        },
        "outputId": "5ec051a5-60e8-43f6-b67c-d65d965e452d"
      },
      "execution_count": 45,
      "outputs": [
        {
          "output_type": "stream",
          "name": "stdout",
          "text": [
            "Amplitude interquartil: 35.0\n",
            "Outlier inferior: 120\n",
            "Outlier superior: 265\n"
          ]
        }
      ]
    },
    {
      "cell_type": "markdown",
      "source": [
        "**(d)** (0,5) Construa um boxplot representativo da distribuição de pesos e comprove a ocorrência dos outliers.\n",
        "\n",
        "*DICA:* Verifique se o boxplot gerado confirma a sua resposta fornecida no item (b).\n",
        "\n",
        "*IMPORTANTE:* O método boxplot é aplicável aos DataFrames do Pandas. Logo, a primeira ação do código a seguir é transformar a série de dados em um DataFrame."
      ],
      "metadata": {
        "id": "uPyBK0kwTf7J"
      }
    },
    {
      "cell_type": "code",
      "source": [
        "# Transformação da série pesos em um DataFrame\n",
        "pesos_df = pd.DataFrame(pesos)\n",
        "# Construção do boxplot\n",
        "pesos_boxplot = pesos_df.boxplot(color = 'red', vert=False, whis=1.5, showmeans=True)\n",
        "plt.title('Distribuição dos pesos no time de futebol americano')\n",
        "plt.ylabel('Pesos [libras]')"
      ],
      "metadata": {
        "id": "h5N5WJbAOrrQ",
        "colab": {
          "base_uri": "https://localhost:8080/",
          "height": 298
        },
        "outputId": "004d3090-3c16-4355-af8d-067a5a761879"
      },
      "execution_count": 46,
      "outputs": [
        {
          "output_type": "execute_result",
          "data": {
            "text/plain": [
              "Text(0, 0.5, 'Pesos [libras]')"
            ]
          },
          "metadata": {},
          "execution_count": 46
        },
        {
          "output_type": "display_data",
          "data": {
            "text/plain": [
              "<Figure size 432x288 with 1 Axes>"
            ],
            "image/png": "[encoded data removed]"
          },
          "metadata": {
            "needs_background": "light"
          }
        }
      ]
    },
    {
      "cell_type": "markdown",
      "source": [
        "# Questão 03 - Probabilidades\n",
        "Você dispõe de um conjunto de dados relativos ao setor de vestuário de uma rede de lojas de departamentos nos EUA.\n",
        "\n",
        "A rede de lojas está presente nas quatro regiões: Norte (*North*), Sul (*South*), Leste (*East*) e Oeste (*West*). Essas informações estão presentes na coluna *Region*.\n",
        "\n",
        "O setor sob análise comercializa vestuário feminino (*Womens's Clothing*), masculino (*Men's Clothing*) e infantil (*Children's Clothing*), sendo que essas categorizações estão presentes na coluna *Type*.\n",
        "\n",
        "Além disso, o conjunto de dados registra também as datas das transações (coluna *Date*), o número de itens vendidos (coluna *Units*) e o valor da venda (coluna *Sales*).\n",
        "\n",
        "Execute a célula de código a seguir e verifique as cinco primeiras linhas do conjunto de dados."
      ],
      "metadata": {
        "id": "RKAd_OdKVBYX"
      }
    },
    {
      "cell_type": "code",
      "source": [
        "import pandas as pd\n",
        "# Criação do conjunto de dados\n",
        "endereco = 'https://github.com/datagy/mediumdata/raw/master/sample_pivot.xlsx'\n",
        "roupas = pd.read_excel(endereco, parse_dates=['Date'])\n",
        "# Exibição das 5 primeiras linhas do conjunto de dados\n",
        "display(roupas.head())"
      ],
      "metadata": {
        "id": "IFhYYV19Wk1h",
        "colab": {
          "base_uri": "https://localhost:8080/",
          "height": 206
        },
        "outputId": "9ef2fc65-0caf-4b26-897a-a7506ffe01f1"
      },
      "execution_count": 47,
      "outputs": [
        {
          "output_type": "display_data",
          "data": {
            "text/plain": [
              "        Date Region                 Type  Units  Sales\n",
              "0 2020-07-11   East  Children's Clothing   18.0    306\n",
              "1 2020-09-23  North  Children's Clothing   14.0    448\n",
              "2 2020-04-02  South     Women's Clothing   17.0    425\n",
              "3 2020-02-28   East  Children's Clothing   26.0    832\n",
              "4 2020-03-19   West     Women's Clothing    3.0     33"
            ],
            "text/html": [
              "\n",
              "  <div id=\"df-40912445-3951-4a25-bdc9-76b223115c17\">\n",
              "    <div class=\"colab-df-container\">\n",
              "      <div>\n",
              "<style scoped>\n",
              "    .dataframe tbody tr th:only-of-type {\n",
              "        vertical-align: middle;\n",
              "    }\n",
              "\n",
              "    .dataframe tbody tr th {\n",
              "        vertical-align: top;\n",
              "    }\n",
              "\n",
              "    .dataframe thead th {\n",
              "        text-align: right;\n",
              "    }\n",
              "</style>\n",
              "<table border=\"1\" class=\"dataframe\">\n",
              "  <thead>\n",
              "    <tr style=\"text-align: right;\">\n",
              "      <th></th>\n",
              "      <th>Date</th>\n",
              "      <th>Region</th>\n",
              "      <th>Type</th>\n",
              "      <th>Units</th>\n",
              "      <th>Sales</th>\n",
              "    </tr>\n",
              "  </thead>\n",
              "  <tbody>\n",
              "    <tr>\n",
              "      <th>0</th>\n",
              "      <td>2020-07-11</td>\n",
              "      <td>East</td>\n",
              "      <td>Children's Clothing</td>\n",
              "      <td>18.0</td>\n",
              "      <td>306</td>\n",
              "    </tr>\n",
              "    <tr>\n",
              "      <th>1</th>\n",
              "      <td>2020-09-23</td>\n",
              "      <td>North</td>\n",
              "      <td>Children's Clothing</td>\n",
              "      <td>14.0</td>\n",
              "      <td>448</td>\n",
              "    </tr>\n",
              "    <tr>\n",
              "      <th>2</th>\n",
              "      <td>2020-04-02</td>\n",
              "      <td>South</td>\n",
              "      <td>Women's Clothing</td>\n",
              "      <td>17.0</td>\n",
              "      <td>425</td>\n",
              "    </tr>\n",
              "    <tr>\n",
              "      <th>3</th>\n",
              "      <td>2020-02-28</td>\n",
              "      <td>East</td>\n",
              "      <td>Children's Clothing</td>\n",
              "      <td>26.0</td>\n",
              "      <td>832</td>\n",
              "    </tr>\n",
              "    <tr>\n",
              "      <th>4</th>\n",
              "      <td>2020-03-19</td>\n",
              "      <td>West</td>\n",
              "      <td>Women's Clothing</td>\n",
              "      <td>3.0</td>\n",
              "      <td>33</td>\n",
              "    </tr>\n",
              "  </tbody>\n",
              "</table>\n",
              "</div>\n",
              "      <button class=\"colab-df-convert\" onclick=\"convertToInteractive('df-40912445-3951-4a25-bdc9-76b223115c17')\"\n",
              "              title=\"Convert this dataframe to an interactive table.\"\n",
              "              style=\"display:none;\">\n",
              "        \n",
              "  <svg xmlns=\"http://www.w3.org/2000/svg\" height=\"24px\"viewBox=\"0 0 24 24\"\n",
              "       width=\"24px\">\n",
              "    <path d=\"M0 0h24v24H0V0z\" fill=\"none\"/>\n",
              "    <path d=\"M18.56 5.44l.94 2.06.94-2.06 2.06-.94-2.06-.94-.94-2.06-.94 2.06-2.06.94zm-11 1L8.5 8.5l.94-2.06 2.06-.94-2.06-.94L8.5 2.5l-.94 2.06-2.06.94zm10 10l.94 2.06.94-2.06 2.06-.94-2.06-.94-.94-2.06-.94 2.06-2.06.94z\"/><path d=\"M17.41 7.96l-1.37-1.37c-.4-.4-.92-.59-1.43-.59-.52 0-1.04.2-1.43.59L10.3 9.45l-7.72 7.72c-.78.78-.78 2.05 0 2.83L4 21.41c.39.39.9.59 1.41.59.51 0 1.02-.2 1.41-.59l7.78-7.78 2.81-2.81c.8-.78.8-2.07 0-2.86zM5.41 20L4 18.59l7.72-7.72 1.47 1.35L5.41 20z\"/>\n",
              "  </svg>\n",
              "      </button>\n",
              "      \n",
              "  <style>\n",
              "    .colab-df-container {\n",
              "      display:flex;\n",
              "      flex-wrap:wrap;\n",
              "      gap: 12px;\n",
              "    }\n",
              "\n",
              "    .colab-df-convert {\n",
              "      background-color: #E8F0FE;\n",
              "      border: none;\n",
              "      border-radius: 50%;\n",
              "      cursor: pointer;\n",
              "      display: none;\n",
              "      fill: #1967D2;\n",
              "      height: 32px;\n",
              "      padding: 0 0 0 0;\n",
              "      width: 32px;\n",
              "    }\n",
              "\n",
              "    .colab-df-convert:hover {\n",
              "      background-color: #E2EBFA;\n",
              "      box-shadow: 0px 1px 2px rgba(60, 64, 67, 0.3), 0px 1px 3px 1px rgba(60, 64, 67, 0.15);\n",
              "      fill: #174EA6;\n",
              "    }\n",
              "\n",
              "    [theme=dark] .colab-df-convert {\n",
              "      background-color: #3B4455;\n",
              "      fill: #D2E3FC;\n",
              "    }\n",
              "\n",
              "    [theme=dark] .colab-df-convert:hover {\n",
              "      background-color: #434B5C;\n",
              "      box-shadow: 0px 1px 3px 1px rgba(0, 0, 0, 0.15);\n",
              "      filter: drop-shadow(0px 1px 2px rgba(0, 0, 0, 0.3));\n",
              "      fill: #FFFFFF;\n",
              "    }\n",
              "  </style>\n",
              "\n",
              "      <script>\n",
              "        const buttonEl =\n",
              "          document.querySelector('#df-40912445-3951-4a25-bdc9-76b223115c17 button.colab-df-convert');\n",
              "        buttonEl.style.display =\n",
              "          google.colab.kernel.accessAllowed ? 'block' : 'none';\n",
              "\n",
              "        async function convertToInteractive(key) {\n",
              "          const element = document.querySelector('#df-40912445-3951-4a25-bdc9-76b223115c17');\n",
              "          const dataTable =\n",
              "            await google.colab.kernel.invokeFunction('convertToInteractive',\n",
              "                                                     [key], {});\n",
              "          if (!dataTable) return;\n",
              "\n",
              "          const docLinkHtml = 'Like what you see? Visit the ' +\n",
              "            '<a target=\"_blank\" href=https://colab.research.google.com/notebooks/data_table.ipynb>data table notebook</a>'\n",
              "            + ' to learn more about interactive tables.';\n",
              "          element.innerHTML = '';\n",
              "          dataTable['output_type'] = 'display_data';\n",
              "          await google.colab.output.renderOutput(dataTable, element);\n",
              "          const docLink = document.createElement('div');\n",
              "          docLink.innerHTML = docLinkHtml;\n",
              "          element.appendChild(docLink);\n",
              "        }\n",
              "      </script>\n",
              "    </div>\n",
              "  </div>\n",
              "  "
            ]
          },
          "metadata": {}
        }
      ]
    },
    {
      "cell_type": "markdown",
      "source": [
        "Você está interessado em realizar um estudo probabilístico que o ajudará nas tomadas de decisão para novos investimentos no setor. Para isso:\n",
        "\n",
        "**(a)** (0,5) Construa uma tabela de distribuição conjunta de probabilidades, relacionando a Região das lojas (*Region*, nas linhas) com o tipo de vestuário (*Type*, nas colunas). Exiba as colunas e linhas de totalização das informações."
      ],
      "metadata": {
        "id": "Yr4_-FPz2s9J"
      }
    },
    {
      "cell_type": "code",
      "source": [
        "# Construção da tabela de distribuição conjunta\n",
        "dconj = pd.crosstab(index=roupas['Region'],\n",
        "                        columns=roupas['Type'], margins=True)\n",
        "display(dconj)"
      ],
      "metadata": {
        "id": "foI5t6lvz7lS",
        "colab": {
          "base_uri": "https://localhost:8080/",
          "height": 237
        },
        "outputId": "fab730c9-bd19-4eeb-e3be-9b571fd1fa50"
      },
      "execution_count": 48,
      "outputs": [
        {
          "output_type": "display_data",
          "data": {
            "text/plain": [
              "Type    Children's Clothing  Men's Clothing  Women's Clothing   All\n",
              "Region                                                             \n",
              "East                    113             122               176   411\n",
              "North                    85              89               142   316\n",
              "South                    45              39                53   137\n",
              "West                     42              41                53   136\n",
              "All                     285             291               424  1000"
            ],
            "text/html": [
              "\n",
              "  <div id=\"df-44e74015-c1a7-481f-b50a-a6399093e63d\">\n",
              "    <div class=\"colab-df-container\">\n",
              "      <div>\n",
              "<style scoped>\n",
              "    .dataframe tbody tr th:only-of-type {\n",
              "        vertical-align: middle;\n",
              "    }\n",
              "\n",
              "    .dataframe tbody tr th {\n",
              "        vertical-align: top;\n",
              "    }\n",
              "\n",
              "    .dataframe thead th {\n",
              "        text-align: right;\n",
              "    }\n",
              "</style>\n",
              "<table border=\"1\" class=\"dataframe\">\n",
              "  <thead>\n",
              "    <tr style=\"text-align: right;\">\n",
              "      <th>Type</th>\n",
              "      <th>Children's Clothing</th>\n",
              "      <th>Men's Clothing</th>\n",
              "      <th>Women's Clothing</th>\n",
              "      <th>All</th>\n",
              "    </tr>\n",
              "    <tr>\n",
              "      <th>Region</th>\n",
              "      <th></th>\n",
              "      <th></th>\n",
              "      <th></th>\n",
              "      <th></th>\n",
              "    </tr>\n",
              "  </thead>\n",
              "  <tbody>\n",
              "    <tr>\n",
              "      <th>East</th>\n",
              "      <td>113</td>\n",
              "      <td>122</td>\n",
              "      <td>176</td>\n",
              "      <td>411</td>\n",
              "    </tr>\n",
              "    <tr>\n",
              "      <th>North</th>\n",
              "      <td>85</td>\n",
              "      <td>89</td>\n",
              "      <td>142</td>\n",
              "      <td>316</td>\n",
              "    </tr>\n",
              "    <tr>\n",
              "      <th>South</th>\n",
              "      <td>45</td>\n",
              "      <td>39</td>\n",
              "      <td>53</td>\n",
              "      <td>137</td>\n",
              "    </tr>\n",
              "    <tr>\n",
              "      <th>West</th>\n",
              "      <td>42</td>\n",
              "      <td>41</td>\n",
              "      <td>53</td>\n",
              "      <td>136</td>\n",
              "    </tr>\n",
              "    <tr>\n",
              "      <th>All</th>\n",
              "      <td>285</td>\n",
              "      <td>291</td>\n",
              "      <td>424</td>\n",
              "      <td>1000</td>\n",
              "    </tr>\n",
              "  </tbody>\n",
              "</table>\n",
              "</div>\n",
              "      <button class=\"colab-df-convert\" onclick=\"convertToInteractive('df-44e74015-c1a7-481f-b50a-a6399093e63d')\"\n",
              "              title=\"Convert this dataframe to an interactive table.\"\n",
              "              style=\"display:none;\">\n",
              "        \n",
              "  <svg xmlns=\"http://www.w3.org/2000/svg\" height=\"24px\"viewBox=\"0 0 24 24\"\n",
              "       width=\"24px\">\n",
              "    <path d=\"M0 0h24v24H0V0z\" fill=\"none\"/>\n",
              "    <path d=\"M18.56 5.44l.94 2.06.94-2.06 2.06-.94-2.06-.94-.94-2.06-.94 2.06-2.06.94zm-11 1L8.5 8.5l.94-2.06 2.06-.94-2.06-.94L8.5 2.5l-.94 2.06-2.06.94zm10 10l.94 2.06.94-2.06 2.06-.94-2.06-.94-.94-2.06-.94 2.06-2.06.94z\"/><path d=\"M17.41 7.96l-1.37-1.37c-.4-.4-.92-.59-1.43-.59-.52 0-1.04.2-1.43.59L10.3 9.45l-7.72 7.72c-.78.78-.78 2.05 0 2.83L4 21.41c.39.39.9.59 1.41.59.51 0 1.02-.2 1.41-.59l7.78-7.78 2.81-2.81c.8-.78.8-2.07 0-2.86zM5.41 20L4 18.59l7.72-7.72 1.47 1.35L5.41 20z\"/>\n",
              "  </svg>\n",
              "      </button>\n",
              "      \n",
              "  <style>\n",
              "    .colab-df-container {\n",
              "      display:flex;\n",
              "      flex-wrap:wrap;\n",
              "      gap: 12px;\n",
              "    }\n",
              "\n",
              "    .colab-df-convert {\n",
              "      background-color: #E8F0FE;\n",
              "      border: none;\n",
              "      border-radius: 50%;\n",
              "      cursor: pointer;\n",
              "      display: none;\n",
              "      fill: #1967D2;\n",
              "      height: 32px;\n",
              "      padding: 0 0 0 0;\n",
              "      width: 32px;\n",
              "    }\n",
              "\n",
              "    .colab-df-convert:hover {\n",
              "      background-color: #E2EBFA;\n",
              "      box-shadow: 0px 1px 2px rgba(60, 64, 67, 0.3), 0px 1px 3px 1px rgba(60, 64, 67, 0.15);\n",
              "      fill: #174EA6;\n",
              "    }\n",
              "\n",
              "    [theme=dark] .colab-df-convert {\n",
              "      background-color: #3B4455;\n",
              "      fill: #D2E3FC;\n",
              "    }\n",
              "\n",
              "    [theme=dark] .colab-df-convert:hover {\n",
              "      background-color: #434B5C;\n",
              "      box-shadow: 0px 1px 3px 1px rgba(0, 0, 0, 0.15);\n",
              "      filter: drop-shadow(0px 1px 2px rgba(0, 0, 0, 0.3));\n",
              "      fill: #FFFFFF;\n",
              "    }\n",
              "  </style>\n",
              "\n",
              "      <script>\n",
              "        const buttonEl =\n",
              "          document.querySelector('#df-44e74015-c1a7-481f-b50a-a6399093e63d button.colab-df-convert');\n",
              "        buttonEl.style.display =\n",
              "          google.colab.kernel.accessAllowed ? 'block' : 'none';\n",
              "\n",
              "        async function convertToInteractive(key) {\n",
              "          const element = document.querySelector('#df-44e74015-c1a7-481f-b50a-a6399093e63d');\n",
              "          const dataTable =\n",
              "            await google.colab.kernel.invokeFunction('convertToInteractive',\n",
              "                                                     [key], {});\n",
              "          if (!dataTable) return;\n",
              "\n",
              "          const docLinkHtml = 'Like what you see? Visit the ' +\n",
              "            '<a target=\"_blank\" href=https://colab.research.google.com/notebooks/data_table.ipynb>data table notebook</a>'\n",
              "            + ' to learn more about interactive tables.';\n",
              "          element.innerHTML = '';\n",
              "          dataTable['output_type'] = 'display_data';\n",
              "          await google.colab.output.renderOutput(dataTable, element);\n",
              "          const docLink = document.createElement('div');\n",
              "          docLink.innerHTML = docLinkHtml;\n",
              "          element.appendChild(docLink);\n",
              "        }\n",
              "      </script>\n",
              "    </div>\n",
              "  </div>\n",
              "  "
            ]
          },
          "metadata": {}
        }
      ]
    },
    {
      "cell_type": "markdown",
      "source": [
        "**(b)** (0,5) Calcule, usando o método *iloc* do Pandas, as probabilidades de que uma venda selecionada aleatoriamente:\n",
        "\n",
        "\n",
        "*   (b1) tenha ocorrido na região Norte\n",
        "*   (b2) seja de vestuário infantil"
      ],
      "metadata": {
        "id": "JtzmGYS-4YIX"
      }
    },
    {
      "cell_type": "code",
      "source": [
        "# Cálculo da probabilidade de que uma venda ocorra na reião Norte\n",
        "pnorte = dconj.iloc[1, 3] / dconj.iloc[4,3]\n",
        "print(f'A probabilidade de que uma venda ocorra na região Norte é de {pnorte*100:.1f}%.')\n",
        "# Cálculo da probabilidade de que uma venda seja de vestuário infantil\n",
        "pinfantil = dconj.iloc[4,0] / dconj.iloc[4,3]\n",
        "print(f'A probabilidade de que uma venda seja de vestuário infantil é de {pinfantil*100:.1f}%.')"
      ],
      "metadata": {
        "id": "q5JQLJdP5HMI",
        "colab": {
          "base_uri": "https://localhost:8080/"
        },
        "outputId": "b3fb3c53-a23d-41f5-aba4-abd643b241a4"
      },
      "execution_count": 49,
      "outputs": [
        {
          "output_type": "stream",
          "name": "stdout",
          "text": [
            "A probabilidade de que uma venda ocorra na região Norte é de 31.6%.\n",
            "A probabilidade de que uma venda seja de vestuário infantil é de 28.5%.\n"
          ]
        }
      ]
    },
    {
      "cell_type": "markdown",
      "source": [
        "**(c)** (0,75) Reconstrua a tabela de distribuição conjunta de probabilidade do item (b) de forma que nela sejam agora exibidas as probabilidades condicionais da forma *P(tipo de vestuário | região)*. Em especial, registre no campo de formulário a *P(vestuário masculino | Sul)*."
      ],
      "metadata": {
        "id": "XG5gYO9E7MaO"
      }
    },
    {
      "cell_type": "code",
      "source": [
        "# Construção da nova tabela de distribuição conjunta\n",
        "dconj1 = pd.crosstab(index=roupas['Region'],\n",
        "                        columns=roupas['Type'], margins=True, normalize = 'index')\n",
        "display(dconj1)"
      ],
      "metadata": {
        "id": "UnUjv_T472H8",
        "colab": {
          "base_uri": "https://localhost:8080/",
          "height": 237
        },
        "outputId": "12799091-fed0-4f49-96f7-af288dba7ab8"
      },
      "execution_count": 50,
      "outputs": [
        {
          "output_type": "display_data",
          "data": {
            "text/plain": [
              "Type    Children's Clothing  Men's Clothing  Women's Clothing\n",
              "Region                                                       \n",
              "East               0.274939        0.296837          0.428224\n",
              "North              0.268987        0.281646          0.449367\n",
              "South              0.328467        0.284672          0.386861\n",
              "West               0.308824        0.301471          0.389706\n",
              "All                0.285000        0.291000          0.424000"
            ],
            "text/html": [
              "\n",
              "  <div id=\"df-b460ff1c-9a5c-4d09-9ee7-4db4213726fd\">\n",
              "    <div class=\"colab-df-container\">\n",
              "      <div>\n",
              "<style scoped>\n",
              "    .dataframe tbody tr th:only-of-type {\n",
              "        vertical-align: middle;\n",
              "    }\n",
              "\n",
              "    .dataframe tbody tr th {\n",
              "        vertical-align: top;\n",
              "    }\n",
              "\n",
              "    .dataframe thead th {\n",
              "        text-align: right;\n",
              "    }\n",
              "</style>\n",
              "<table border=\"1\" class=\"dataframe\">\n",
              "  <thead>\n",
              "    <tr style=\"text-align: right;\">\n",
              "      <th>Type</th>\n",
              "      <th>Children's Clothing</th>\n",
              "      <th>Men's Clothing</th>\n",
              "      <th>Women's Clothing</th>\n",
              "    </tr>\n",
              "    <tr>\n",
              "      <th>Region</th>\n",
              "      <th></th>\n",
              "      <th></th>\n",
              "      <th></th>\n",
              "    </tr>\n",
              "  </thead>\n",
              "  <tbody>\n",
              "    <tr>\n",
              "      <th>East</th>\n",
              "      <td>0.274939</td>\n",
              "      <td>0.296837</td>\n",
              "      <td>0.428224</td>\n",
              "    </tr>\n",
              "    <tr>\n",
              "      <th>North</th>\n",
              "      <td>0.268987</td>\n",
              "      <td>0.281646</td>\n",
              "      <td>0.449367</td>\n",
              "    </tr>\n",
              "    <tr>\n",
              "      <th>South</th>\n",
              "      <td>0.328467</td>\n",
              "      <td>0.284672</td>\n",
              "      <td>0.386861</td>\n",
              "    </tr>\n",
              "    <tr>\n",
              "      <th>West</th>\n",
              "      <td>0.308824</td>\n",
              "      <td>0.301471</td>\n",
              "      <td>0.389706</td>\n",
              "    </tr>\n",
              "    <tr>\n",
              "      <th>All</th>\n",
              "      <td>0.285000</td>\n",
              "      <td>0.291000</td>\n",
              "      <td>0.424000</td>\n",
              "    </tr>\n",
              "  </tbody>\n",
              "</table>\n",
              "</div>\n",
              "      <button class=\"colab-df-convert\" onclick=\"convertToInteractive('df-b460ff1c-9a5c-4d09-9ee7-4db4213726fd')\"\n",
              "              title=\"Convert this dataframe to an interactive table.\"\n",
              "              style=\"display:none;\">\n",
              "        \n",
              "  <svg xmlns=\"http://www.w3.org/2000/svg\" height=\"24px\"viewBox=\"0 0 24 24\"\n",
              "       width=\"24px\">\n",
              "    <path d=\"M0 0h24v24H0V0z\" fill=\"none\"/>\n",
              "    <path d=\"M18.56 5.44l.94 2.06.94-2.06 2.06-.94-2.06-.94-.94-2.06-.94 2.06-2.06.94zm-11 1L8.5 8.5l.94-2.06 2.06-.94-2.06-.94L8.5 2.5l-.94 2.06-2.06.94zm10 10l.94 2.06.94-2.06 2.06-.94-2.06-.94-.94-2.06-.94 2.06-2.06.94z\"/><path d=\"M17.41 7.96l-1.37-1.37c-.4-.4-.92-.59-1.43-.59-.52 0-1.04.2-1.43.59L10.3 9.45l-7.72 7.72c-.78.78-.78 2.05 0 2.83L4 21.41c.39.39.9.59 1.41.59.51 0 1.02-.2 1.41-.59l7.78-7.78 2.81-2.81c.8-.78.8-2.07 0-2.86zM5.41 20L4 18.59l7.72-7.72 1.47 1.35L5.41 20z\"/>\n",
              "  </svg>\n",
              "      </button>\n",
              "      \n",
              "  <style>\n",
              "    .colab-df-container {\n",
              "      display:flex;\n",
              "      flex-wrap:wrap;\n",
              "      gap: 12px;\n",
              "    }\n",
              "\n",
              "    .colab-df-convert {\n",
              "      background-color: #E8F0FE;\n",
              "      border: none;\n",
              "      border-radius: 50%;\n",
              "      cursor: pointer;\n",
              "      display: none;\n",
              "      fill: #1967D2;\n",
              "      height: 32px;\n",
              "      padding: 0 0 0 0;\n",
              "      width: 32px;\n",
              "    }\n",
              "\n",
              "    .colab-df-convert:hover {\n",
              "      background-color: #E2EBFA;\n",
              "      box-shadow: 0px 1px 2px rgba(60, 64, 67, 0.3), 0px 1px 3px 1px rgba(60, 64, 67, 0.15);\n",
              "      fill: #174EA6;\n",
              "    }\n",
              "\n",
              "    [theme=dark] .colab-df-convert {\n",
              "      background-color: #3B4455;\n",
              "      fill: #D2E3FC;\n",
              "    }\n",
              "\n",
              "    [theme=dark] .colab-df-convert:hover {\n",
              "      background-color: #434B5C;\n",
              "      box-shadow: 0px 1px 3px 1px rgba(0, 0, 0, 0.15);\n",
              "      filter: drop-shadow(0px 1px 2px rgba(0, 0, 0, 0.3));\n",
              "      fill: #FFFFFF;\n",
              "    }\n",
              "  </style>\n",
              "\n",
              "      <script>\n",
              "        const buttonEl =\n",
              "          document.querySelector('#df-b460ff1c-9a5c-4d09-9ee7-4db4213726fd button.colab-df-convert');\n",
              "        buttonEl.style.display =\n",
              "          google.colab.kernel.accessAllowed ? 'block' : 'none';\n",
              "\n",
              "        async function convertToInteractive(key) {\n",
              "          const element = document.querySelector('#df-b460ff1c-9a5c-4d09-9ee7-4db4213726fd');\n",
              "          const dataTable =\n",
              "            await google.colab.kernel.invokeFunction('convertToInteractive',\n",
              "                                                     [key], {});\n",
              "          if (!dataTable) return;\n",
              "\n",
              "          const docLinkHtml = 'Like what you see? Visit the ' +\n",
              "            '<a target=\"_blank\" href=https://colab.research.google.com/notebooks/data_table.ipynb>data table notebook</a>'\n",
              "            + ' to learn more about interactive tables.';\n",
              "          element.innerHTML = '';\n",
              "          dataTable['output_type'] = 'display_data';\n",
              "          await google.colab.output.renderOutput(dataTable, element);\n",
              "          const docLink = document.createElement('div');\n",
              "          docLink.innerHTML = docLinkHtml;\n",
              "          element.appendChild(docLink);\n",
              "        }\n",
              "      </script>\n",
              "    </div>\n",
              "  </div>\n",
              "  "
            ]
          },
          "metadata": {}
        }
      ]
    },
    {
      "cell_type": "code",
      "source": [
        "#@title P(vestuário masculino | Sul)\n",
        "Resp_Q3_c = \"Aproximadamente 28% das vendas de vestuario masculino ocorrem no sul\" #@param {type:\"string\"}"
      ],
      "metadata": {
        "id": "G_WySF449Dxi"
      },
      "execution_count": 51,
      "outputs": []
    },
    {
      "cell_type": "markdown",
      "source": [
        "**(d)** (0,75) Reconstrua novamente a tabela de distribuição conjunta de probabilidade do item (b) de forma que nela sejam agora exibidas as probabilidades condicionais da forma *P(região| tipo de vestuário)*. Em especial, registre no campo de formulário a *P(Oeste | vestuário feminino)*."
      ],
      "metadata": {
        "id": "O2xJagU_9XWS"
      }
    },
    {
      "cell_type": "code",
      "source": [
        "# Construção da nova tabela de distribuição conjunta\n",
        "dconj2 = pd.crosstab(index=roupas['Type'],\n",
        "                        columns=roupas['Region'], margins=True, normalize = 'index')\n",
        "display(dconj2)"
      ],
      "metadata": {
        "id": "eZsx0G_t-G7B",
        "colab": {
          "base_uri": "https://localhost:8080/",
          "height": 206
        },
        "outputId": "d7fdaeb4-3dd6-440c-a61d-a547bdf4f550"
      },
      "execution_count": 52,
      "outputs": [
        {
          "output_type": "display_data",
          "data": {
            "text/plain": [
              "Region                   East     North     South      West\n",
              "Type                                                       \n",
              "Children's Clothing  0.396491  0.298246  0.157895  0.147368\n",
              "Men's Clothing       0.419244  0.305842  0.134021  0.140893\n",
              "Women's Clothing     0.415094  0.334906  0.125000  0.125000\n",
              "All                  0.411000  0.316000  0.137000  0.136000"
            ],
            "text/html": [
              "\n",
              "  <div id=\"df-b6304327-ccfa-44f3-96ee-cb470d8c4e73\">\n",
              "    <div class=\"colab-df-container\">\n",
              "      <div>\n",
              "<style scoped>\n",
              "    .dataframe tbody tr th:only-of-type {\n",
              "        vertical-align: middle;\n",
              "    }\n",
              "\n",
              "    .dataframe tbody tr th {\n",
              "        vertical-align: top;\n",
              "    }\n",
              "\n",
              "    .dataframe thead th {\n",
              "        text-align: right;\n",
              "    }\n",
              "</style>\n",
              "<table border=\"1\" class=\"dataframe\">\n",
              "  <thead>\n",
              "    <tr style=\"text-align: right;\">\n",
              "      <th>Region</th>\n",
              "      <th>East</th>\n",
              "      <th>North</th>\n",
              "      <th>South</th>\n",
              "      <th>West</th>\n",
              "    </tr>\n",
              "    <tr>\n",
              "      <th>Type</th>\n",
              "      <th></th>\n",
              "      <th></th>\n",
              "      <th></th>\n",
              "      <th></th>\n",
              "    </tr>\n",
              "  </thead>\n",
              "  <tbody>\n",
              "    <tr>\n",
              "      <th>Children's Clothing</th>\n",
              "      <td>0.396491</td>\n",
              "      <td>0.298246</td>\n",
              "      <td>0.157895</td>\n",
              "      <td>0.147368</td>\n",
              "    </tr>\n",
              "    <tr>\n",
              "      <th>Men's Clothing</th>\n",
              "      <td>0.419244</td>\n",
              "      <td>0.305842</td>\n",
              "      <td>0.134021</td>\n",
              "      <td>0.140893</td>\n",
              "    </tr>\n",
              "    <tr>\n",
              "      <th>Women's Clothing</th>\n",
              "      <td>0.415094</td>\n",
              "      <td>0.334906</td>\n",
              "      <td>0.125000</td>\n",
              "      <td>0.125000</td>\n",
              "    </tr>\n",
              "    <tr>\n",
              "      <th>All</th>\n",
              "      <td>0.411000</td>\n",
              "      <td>0.316000</td>\n",
              "      <td>0.137000</td>\n",
              "      <td>0.136000</td>\n",
              "    </tr>\n",
              "  </tbody>\n",
              "</table>\n",
              "</div>\n",
              "      <button class=\"colab-df-convert\" onclick=\"convertToInteractive('df-b6304327-ccfa-44f3-96ee-cb470d8c4e73')\"\n",
              "              title=\"Convert this dataframe to an interactive table.\"\n",
              "              style=\"display:none;\">\n",
              "        \n",
              "  <svg xmlns=\"http://www.w3.org/2000/svg\" height=\"24px\"viewBox=\"0 0 24 24\"\n",
              "       width=\"24px\">\n",
              "    <path d=\"M0 0h24v24H0V0z\" fill=\"none\"/>\n",
              "    <path d=\"M18.56 5.44l.94 2.06.94-2.06 2.06-.94-2.06-.94-.94-2.06-.94 2.06-2.06.94zm-11 1L8.5 8.5l.94-2.06 2.06-.94-2.06-.94L8.5 2.5l-.94 2.06-2.06.94zm10 10l.94 2.06.94-2.06 2.06-.94-2.06-.94-.94-2.06-.94 2.06-2.06.94z\"/><path d=\"M17.41 7.96l-1.37-1.37c-.4-.4-.92-.59-1.43-.59-.52 0-1.04.2-1.43.59L10.3 9.45l-7.72 7.72c-.78.78-.78 2.05 0 2.83L4 21.41c.39.39.9.59 1.41.59.51 0 1.02-.2 1.41-.59l7.78-7.78 2.81-2.81c.8-.78.8-2.07 0-2.86zM5.41 20L4 18.59l7.72-7.72 1.47 1.35L5.41 20z\"/>\n",
              "  </svg>\n",
              "      </button>\n",
              "      \n",
              "  <style>\n",
              "    .colab-df-container {\n",
              "      display:flex;\n",
              "      flex-wrap:wrap;\n",
              "      gap: 12px;\n",
              "    }\n",
              "\n",
              "    .colab-df-convert {\n",
              "      background-color: #E8F0FE;\n",
              "      border: none;\n",
              "      border-radius: 50%;\n",
              "      cursor: pointer;\n",
              "      display: none;\n",
              "      fill: #1967D2;\n",
              "      height: 32px;\n",
              "      padding: 0 0 0 0;\n",
              "      width: 32px;\n",
              "    }\n",
              "\n",
              "    .colab-df-convert:hover {\n",
              "      background-color: #E2EBFA;\n",
              "      box-shadow: 0px 1px 2px rgba(60, 64, 67, 0.3), 0px 1px 3px 1px rgba(60, 64, 67, 0.15);\n",
              "      fill: #174EA6;\n",
              "    }\n",
              "\n",
              "    [theme=dark] .colab-df-convert {\n",
              "      background-color: #3B4455;\n",
              "      fill: #D2E3FC;\n",
              "    }\n",
              "\n",
              "    [theme=dark] .colab-df-convert:hover {\n",
              "      background-color: #434B5C;\n",
              "      box-shadow: 0px 1px 3px 1px rgba(0, 0, 0, 0.15);\n",
              "      filter: drop-shadow(0px 1px 2px rgba(0, 0, 0, 0.3));\n",
              "      fill: #FFFFFF;\n",
              "    }\n",
              "  </style>\n",
              "\n",
              "      <script>\n",
              "        const buttonEl =\n",
              "          document.querySelector('#df-b6304327-ccfa-44f3-96ee-cb470d8c4e73 button.colab-df-convert');\n",
              "        buttonEl.style.display =\n",
              "          google.colab.kernel.accessAllowed ? 'block' : 'none';\n",
              "\n",
              "        async function convertToInteractive(key) {\n",
              "          const element = document.querySelector('#df-b6304327-ccfa-44f3-96ee-cb470d8c4e73');\n",
              "          const dataTable =\n",
              "            await google.colab.kernel.invokeFunction('convertToInteractive',\n",
              "                                                     [key], {});\n",
              "          if (!dataTable) return;\n",
              "\n",
              "          const docLinkHtml = 'Like what you see? Visit the ' +\n",
              "            '<a target=\"_blank\" href=https://colab.research.google.com/notebooks/data_table.ipynb>data table notebook</a>'\n",
              "            + ' to learn more about interactive tables.';\n",
              "          element.innerHTML = '';\n",
              "          dataTable['output_type'] = 'display_data';\n",
              "          await google.colab.output.renderOutput(dataTable, element);\n",
              "          const docLink = document.createElement('div');\n",
              "          docLink.innerHTML = docLinkHtml;\n",
              "          element.appendChild(docLink);\n",
              "        }\n",
              "      </script>\n",
              "    </div>\n",
              "  </div>\n",
              "  "
            ]
          },
          "metadata": {}
        }
      ]
    },
    {
      "cell_type": "code",
      "source": [
        "#@title P(Oeste | vestuário feminino)\n",
        "Resp_Q3_d = \"Aproximadamente 12% das vendas de roupas femininas acontecem no Oeste\" #@param {type:\"string\"}"
      ],
      "metadata": {
        "id": "vAbkyafh-Nps"
      },
      "execution_count": 53,
      "outputs": []
    },
    {
      "cell_type": "markdown",
      "source": [
        "# Questão 04 - Distribuição discreta de probabilidade\n",
        "Cerca de 56% dos alunos do ensino médio dos Estados Unidos participam de atividades desportivas.\n",
        "\n",
        "Você seleciona aleatoriamente seis alunos do ensino médio do país e pergunta se eles participam de atividades desportivas. Considere *x* como a variável aleatória que representa o número de alunos do ensino médio dos Estados Unidos que participam de atividades desportivas (Fonte: *National Federation\n",
        "of State High School Associations*).\n",
        "\n",
        "**(a)** (1,0) Construa uma distribuição de probabilidade binomial, incluindo a probabilidade acumulada."
      ],
      "metadata": {
        "id": "BHCPLUUk-m6R"
      }
    },
    {
      "cell_type": "code",
      "source": [
        "import pandas as pd\n",
        "import matplotlib.pyplot as plt\n",
        "from scipy.stats import binom\n",
        "\n",
        "# Condições do experimento probabilístico binomial\n",
        "num_exp = 6\n",
        "prob_sucesso = 0.56\n",
        "val_x = list(range(num_exp + 1))\n",
        "# Geração da tabela de distribuição de probabilidade binomial\n",
        "distbin = pd.DataFrame({'Sucessos': val_x})\n",
        "distbin['P(x)'] = binom.pmf(val_x, num_exp, prob_sucesso)\n",
        "distbin['Pac(x)'] = distbin['P(x)'].cumsum()\n",
        "display(distbin)"
      ],
      "metadata": {
        "id": "xVF5ebqS9WMq",
        "colab": {
          "base_uri": "https://localhost:8080/",
          "height": 269
        },
        "outputId": "4f7a0806-5319-4f34-aff3-beea7e70627c"
      },
      "execution_count": 54,
      "outputs": [
        {
          "output_type": "display_data",
          "data": {
            "text/plain": [
              "   Sucessos      P(x)    Pac(x)\n",
              "0         0  0.007256  0.007256\n",
              "1         1  0.055412  0.062668\n",
              "2         2  0.176310  0.238979\n",
              "3         3  0.299193  0.538172\n",
              "4         4  0.285594  0.823766\n",
              "5         5  0.145393  0.969159\n",
              "6         6  0.030841  1.000000"
            ],
            "text/html": [
              "\n",
              "  <div id=\"df-75360564-e77b-4ed3-94f6-c57ed40d14cd\">\n",
              "    <div class=\"colab-df-container\">\n",
              "      <div>\n",
              "<style scoped>\n",
              "    .dataframe tbody tr th:only-of-type {\n",
              "        vertical-align: middle;\n",
              "    }\n",
              "\n",
              "    .dataframe tbody tr th {\n",
              "        vertical-align: top;\n",
              "    }\n",
              "\n",
              "    .dataframe thead th {\n",
              "        text-align: right;\n",
              "    }\n",
              "</style>\n",
              "<table border=\"1\" class=\"dataframe\">\n",
              "  <thead>\n",
              "    <tr style=\"text-align: right;\">\n",
              "      <th></th>\n",
              "      <th>Sucessos</th>\n",
              "      <th>P(x)</th>\n",
              "      <th>Pac(x)</th>\n",
              "    </tr>\n",
              "  </thead>\n",
              "  <tbody>\n",
              "    <tr>\n",
              "      <th>0</th>\n",
              "      <td>0</td>\n",
              "      <td>0.007256</td>\n",
              "      <td>0.007256</td>\n",
              "    </tr>\n",
              "    <tr>\n",
              "      <th>1</th>\n",
              "      <td>1</td>\n",
              "      <td>0.055412</td>\n",
              "      <td>0.062668</td>\n",
              "    </tr>\n",
              "    <tr>\n",
              "      <th>2</th>\n",
              "      <td>2</td>\n",
              "      <td>0.176310</td>\n",
              "      <td>0.238979</td>\n",
              "    </tr>\n",
              "    <tr>\n",
              "      <th>3</th>\n",
              "      <td>3</td>\n",
              "      <td>0.299193</td>\n",
              "      <td>0.538172</td>\n",
              "    </tr>\n",
              "    <tr>\n",
              "      <th>4</th>\n",
              "      <td>4</td>\n",
              "      <td>0.285594</td>\n",
              "      <td>0.823766</td>\n",
              "    </tr>\n",
              "    <tr>\n",
              "      <th>5</th>\n",
              "      <td>5</td>\n",
              "      <td>0.145393</td>\n",
              "      <td>0.969159</td>\n",
              "    </tr>\n",
              "    <tr>\n",
              "      <th>6</th>\n",
              "      <td>6</td>\n",
              "      <td>0.030841</td>\n",
              "      <td>1.000000</td>\n",
              "    </tr>\n",
              "  </tbody>\n",
              "</table>\n",
              "</div>\n",
              "      <button class=\"colab-df-convert\" onclick=\"convertToInteractive('df-75360564-e77b-4ed3-94f6-c57ed40d14cd')\"\n",
              "              title=\"Convert this dataframe to an interactive table.\"\n",
              "              style=\"display:none;\">\n",
              "        \n",
              "  <svg xmlns=\"http://www.w3.org/2000/svg\" height=\"24px\"viewBox=\"0 0 24 24\"\n",
              "       width=\"24px\">\n",
              "    <path d=\"M0 0h24v24H0V0z\" fill=\"none\"/>\n",
              "    <path d=\"M18.56 5.44l.94 2.06.94-2.06 2.06-.94-2.06-.94-.94-2.06-.94 2.06-2.06.94zm-11 1L8.5 8.5l.94-2.06 2.06-.94-2.06-.94L8.5 2.5l-.94 2.06-2.06.94zm10 10l.94 2.06.94-2.06 2.06-.94-2.06-.94-.94-2.06-.94 2.06-2.06.94z\"/><path d=\"M17.41 7.96l-1.37-1.37c-.4-.4-.92-.59-1.43-.59-.52 0-1.04.2-1.43.59L10.3 9.45l-7.72 7.72c-.78.78-.78 2.05 0 2.83L4 21.41c.39.39.9.59 1.41.59.51 0 1.02-.2 1.41-.59l7.78-7.78 2.81-2.81c.8-.78.8-2.07 0-2.86zM5.41 20L4 18.59l7.72-7.72 1.47 1.35L5.41 20z\"/>\n",
              "  </svg>\n",
              "      </button>\n",
              "      \n",
              "  <style>\n",
              "    .colab-df-container {\n",
              "      display:flex;\n",
              "      flex-wrap:wrap;\n",
              "      gap: 12px;\n",
              "    }\n",
              "\n",
              "    .colab-df-convert {\n",
              "      background-color: #E8F0FE;\n",
              "      border: none;\n",
              "      border-radius: 50%;\n",
              "      cursor: pointer;\n",
              "      display: none;\n",
              "      fill: #1967D2;\n",
              "      height: 32px;\n",
              "      padding: 0 0 0 0;\n",
              "      width: 32px;\n",
              "    }\n",
              "\n",
              "    .colab-df-convert:hover {\n",
              "      background-color: #E2EBFA;\n",
              "      box-shadow: 0px 1px 2px rgba(60, 64, 67, 0.3), 0px 1px 3px 1px rgba(60, 64, 67, 0.15);\n",
              "      fill: #174EA6;\n",
              "    }\n",
              "\n",
              "    [theme=dark] .colab-df-convert {\n",
              "      background-color: #3B4455;\n",
              "      fill: #D2E3FC;\n",
              "    }\n",
              "\n",
              "    [theme=dark] .colab-df-convert:hover {\n",
              "      background-color: #434B5C;\n",
              "      box-shadow: 0px 1px 3px 1px rgba(0, 0, 0, 0.15);\n",
              "      filter: drop-shadow(0px 1px 2px rgba(0, 0, 0, 0.3));\n",
              "      fill: #FFFFFF;\n",
              "    }\n",
              "  </style>\n",
              "\n",
              "      <script>\n",
              "        const buttonEl =\n",
              "          document.querySelector('#df-75360564-e77b-4ed3-94f6-c57ed40d14cd button.colab-df-convert');\n",
              "        buttonEl.style.display =\n",
              "          google.colab.kernel.accessAllowed ? 'block' : 'none';\n",
              "\n",
              "        async function convertToInteractive(key) {\n",
              "          const element = document.querySelector('#df-75360564-e77b-4ed3-94f6-c57ed40d14cd');\n",
              "          const dataTable =\n",
              "            await google.colab.kernel.invokeFunction('convertToInteractive',\n",
              "                                                     [key], {});\n",
              "          if (!dataTable) return;\n",
              "\n",
              "          const docLinkHtml = 'Like what you see? Visit the ' +\n",
              "            '<a target=\"_blank\" href=https://colab.research.google.com/notebooks/data_table.ipynb>data table notebook</a>'\n",
              "            + ' to learn more about interactive tables.';\n",
              "          element.innerHTML = '';\n",
              "          dataTable['output_type'] = 'display_data';\n",
              "          await google.colab.output.renderOutput(dataTable, element);\n",
              "          const docLink = document.createElement('div');\n",
              "          docLink.innerHTML = docLinkHtml;\n",
              "          element.appendChild(docLink);\n",
              "        }\n",
              "      </script>\n",
              "    </div>\n",
              "  </div>\n",
              "  "
            ]
          },
          "metadata": {}
        }
      ]
    },
    {
      "cell_type": "markdown",
      "source": [
        "**(b)** (1,5) A partir da tabela de distribuição de probabilidades do item anterior, determine:\n",
        "\n",
        "*   (b1) *pb1 = P(x=5)*\n",
        "*   (b2) *pb2 = P(x>3)*\n",
        "*   (b3) *pb3 = P(x<=2)*\n",
        "\n",
        "SUGESTÃO: Considere investigar a coluna *Pac(x)* ao invés de usar o método *loc* do Pandas."
      ],
      "metadata": {
        "id": "J8RUW85K-7Jf"
      }
    },
    {
      "cell_type": "code",
      "source": [
        "# Cálculo da probabilidade pb1 = P(x=5)\n",
        "pb1 = distbin['P(x)'][5]\n",
        "print(f'P(x=5) = {pb1*100:.1f}%')\n",
        "# Cálculo da probabilidade pb2 = P(x>3)\n",
        "pb2 = distbin['Pac(x)'][6] - distbin['Pac(x)'][3]\n",
        "print(f'P(x>3) = {pb2*100:.1f}%')\n",
        "# Cálculo da probabilidade pb3 = P(x<=2)\n",
        "pb3 = distbin['Pac(x)'][2]\n",
        "print(f'P(x<=2) = {pb3*100:.1f}%')"
      ],
      "metadata": {
        "id": "TQOtpwGjAHvD",
        "colab": {
          "base_uri": "https://localhost:8080/"
        },
        "outputId": "45a7b7e9-ed46-4979-a845-7ac86e9954e4"
      },
      "execution_count": 55,
      "outputs": [
        {
          "output_type": "stream",
          "name": "stdout",
          "text": [
            "P(x=5) = 14.5%\n",
            "P(x>3) = 46.2%\n",
            "P(x<=2) = 23.9%\n"
          ]
        }
      ]
    }
  ]
}