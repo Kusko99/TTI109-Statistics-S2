{
  "cells": [
    {
      "cell_type": "markdown",
      "metadata": {
        "id": "QEH_7FvGl7wm"
      },
      "source": [
        "# Onde é mais caro viver: Gotham City ou Metrópolis?\n",
        "Sua equipe deve responder a essa pergunta com base em dados acerca de aluguéis praticados em diversos pontos das duas cidades, em vários tipos de residências. As informações reúnem a área dos imóveis, os impostos, seguros e aluguéis mensais.\n",
        "\n",
        "Faça o upload do arquivo 'alugueis.csv', execute o código abaixo e verifique o formato do conjunto de dados."
      ]
    },
    {
      "cell_type": "code",
      "execution_count": 37,
      "metadata": {
        "id": "zkRcdkkULvOz"
      },
      "outputs": [
        {
          "data": {
            "text/html": [
              "<div>\n",
              "<style scoped>\n",
              "    .dataframe tbody tr th:only-of-type {\n",
              "        vertical-align: middle;\n",
              "    }\n",
              "\n",
              "    .dataframe tbody tr th {\n",
              "        vertical-align: top;\n",
              "    }\n",
              "\n",
              "    .dataframe thead th {\n",
              "        text-align: right;\n",
              "    }\n",
              "</style>\n",
              "<table border=\"1\" class=\"dataframe\">\n",
              "  <thead>\n",
              "    <tr style=\"text-align: right;\">\n",
              "      <th></th>\n",
              "      <th>Cidade</th>\n",
              "      <th>Área</th>\n",
              "      <th>Impostos</th>\n",
              "      <th>Seguro</th>\n",
              "      <th>Total</th>\n",
              "    </tr>\n",
              "  </thead>\n",
              "  <tbody>\n",
              "    <tr>\n",
              "      <th>0</th>\n",
              "      <td>Gotham</td>\n",
              "      <td>240</td>\n",
              "      <td>1000</td>\n",
              "      <td>121</td>\n",
              "      <td>9121</td>\n",
              "    </tr>\n",
              "    <tr>\n",
              "      <th>1</th>\n",
              "      <td>Metrópolis</td>\n",
              "      <td>64</td>\n",
              "      <td>122</td>\n",
              "      <td>11</td>\n",
              "      <td>1493</td>\n",
              "    </tr>\n",
              "    <tr>\n",
              "      <th>2</th>\n",
              "      <td>Gotham</td>\n",
              "      <td>73</td>\n",
              "      <td>150</td>\n",
              "      <td>16</td>\n",
              "      <td>2116</td>\n",
              "    </tr>\n",
              "    <tr>\n",
              "      <th>3</th>\n",
              "      <td>Gotham</td>\n",
              "      <td>19</td>\n",
              "      <td>41</td>\n",
              "      <td>16</td>\n",
              "      <td>1257</td>\n",
              "    </tr>\n",
              "    <tr>\n",
              "      <th>4</th>\n",
              "      <td>Gotham</td>\n",
              "      <td>13</td>\n",
              "      <td>42</td>\n",
              "      <td>28</td>\n",
              "      <td>2270</td>\n",
              "    </tr>\n",
              "    <tr>\n",
              "      <th>5</th>\n",
              "      <td>Gotham</td>\n",
              "      <td>55</td>\n",
              "      <td>375</td>\n",
              "      <td>64</td>\n",
              "      <td>7389</td>\n",
              "    </tr>\n",
              "    <tr>\n",
              "      <th>6</th>\n",
              "      <td>Gotham</td>\n",
              "      <td>55</td>\n",
              "      <td>67</td>\n",
              "      <td>17</td>\n",
              "      <td>1984</td>\n",
              "    </tr>\n",
              "    <tr>\n",
              "      <th>7</th>\n",
              "      <td>Gotham</td>\n",
              "      <td>82</td>\n",
              "      <td>109</td>\n",
              "      <td>26</td>\n",
              "      <td>2963</td>\n",
              "    </tr>\n",
              "    <tr>\n",
              "      <th>8</th>\n",
              "      <td>Gotham</td>\n",
              "      <td>32</td>\n",
              "      <td>0</td>\n",
              "      <td>37</td>\n",
              "      <td>3470</td>\n",
              "    </tr>\n",
              "    <tr>\n",
              "      <th>9</th>\n",
              "      <td>Metrópolis</td>\n",
              "      <td>60</td>\n",
              "      <td>20</td>\n",
              "      <td>10</td>\n",
              "      <td>1230</td>\n",
              "    </tr>\n",
              "  </tbody>\n",
              "</table>\n",
              "</div>"
            ],
            "text/plain": [
              "       Cidade  Área  Impostos  Seguro  Total\n",
              "0      Gotham   240      1000     121   9121\n",
              "1  Metrópolis    64       122      11   1493\n",
              "2      Gotham    73       150      16   2116\n",
              "3      Gotham    19        41      16   1257\n",
              "4      Gotham    13        42      28   2270\n",
              "5      Gotham    55       375      64   7389\n",
              "6      Gotham    55        67      17   1984\n",
              "7      Gotham    82       109      26   2963\n",
              "8      Gotham    32         0      37   3470\n",
              "9  Metrópolis    60        20      10   1230"
            ]
          },
          "execution_count": 37,
          "metadata": {},
          "output_type": "execute_result"
        }
      ],
      "source": [
        "# Eduardo Cunha Santiago 22.00009-7\n",
        "# Fernando Freitas de Oliveira 19.00468-0\n",
        "\n",
        "import pandas as pd\n",
        "import matplotlib.pyplot as plt\n",
        "# Importação dos dados\n",
        "casas = pd.read_csv('alugueis.csv')\n",
        "# Inspecção das 10 primeiras linhas do DataFrame\n",
        "casas.head(10)"
      ]
    },
    {
      "cell_type": "markdown",
      "metadata": {
        "id": "seh5LJAhoFtw"
      },
      "source": [
        "## Distribuição dos seguros residenciais\n",
        "Construa histogramas para a distribuição de seguros residenciais em cada uma das cidades. A separação dos dados por cidade já está cofificada nos DataFrames casas_Gotham e casas_Met.\n",
        "\n",
        "Além disso, nos histogramas aplique:\n",
        "\n",
        "\n",
        "*   Limite inferior da primeira classe: \\$0 (variável MIN)\n",
        "*   Limite superior da última classe: \\$170 (variável MAX)\n",
        "*   Amplitude das classes: $\\10 (variável AMP)\n",
        "*   Eixo horizontal calibrado nos pontos médios das classes\n",
        "*   Tamanho da figura: 10x6 (variável TAM_FIG)\n",
        "\n",
        "\n",
        "\n",
        "\n",
        "\n"
      ]
    },
    {
      "cell_type": "code",
      "execution_count": 38,
      "metadata": {
        "id": "-kYauBgejS2n"
      },
      "outputs": [
        {
          "data": {
            "text/plain": [
              "[Text(0.5, 0, 'Valor do seguro (em Doláres) na cidade de Gotham'),\n",
              " Text(0, 0.5, 'Frequência de Seguros'),\n",
              " Text(0.5, 1.0, 'Valor do seguro de uma amostra de casas em Gotham'),\n",
              " [<matplotlib.axis.XTick at 0x1b7a4b74280>,\n",
              "  <matplotlib.axis.XTick at 0x1b7a4b742b0>,\n",
              "  <matplotlib.axis.XTick at 0x1b7a4af5450>,\n",
              "  <matplotlib.axis.XTick at 0x1b7a4b1a650>,\n",
              "  <matplotlib.axis.XTick at 0x1b7a4b1ad10>,\n",
              "  <matplotlib.axis.XTick at 0x1b7a4b1b220>,\n",
              "  <matplotlib.axis.XTick at 0x1b7a4b1b970>,\n",
              "  <matplotlib.axis.XTick at 0x1b7a47e0100>,\n",
              "  <matplotlib.axis.XTick at 0x1b7a47e0850>,\n",
              "  <matplotlib.axis.XTick at 0x1b7a47e0fa0>,\n",
              "  <matplotlib.axis.XTick at 0x1b7a4b1bd60>,\n",
              "  <matplotlib.axis.XTick at 0x1b7a4b1ad70>,\n",
              "  <matplotlib.axis.XTick at 0x1b7a47e08b0>,\n",
              "  <matplotlib.axis.XTick at 0x1b7a47e1c90>,\n",
              "  <matplotlib.axis.XTick at 0x1b7a47e23e0>,\n",
              "  <matplotlib.axis.XTick at 0x1b7a47e2b30>,\n",
              "  <matplotlib.axis.XTick at 0x1b7a47e3280>,\n",
              "  <matplotlib.axis.XTick at 0x1b7a4b1b9a0>]]"
            ]
          },
          "execution_count": 38,
          "metadata": {},
          "output_type": "execute_result"
        },
        {
          "data": {
            "image/png": "[encoded data removed]",
            "text/plain": [
              "<Figure size 720x432 with 1 Axes>"
            ]
          },
          "metadata": {
            "needs_background": "light"
          },
          "output_type": "display_data"
        }
      ],
      "source": [
        "'''Histograma de seguros - Gotham City'''\n",
        "casas_Gotham = casas.loc[casas['Cidade']=='Gotham']\n",
        "MIN, MAX, AMP = 0, 170, 10\n",
        "TAM_FIG = (10,6)\n",
        "\n",
        "               #yticks = range(0,dist_freq['Frequência'].max()+2,2))# Construção do histograma\n",
        "intervalos = pd.interval_range(start = MIN, end = MAX+AMP, freq = AMP)\n",
        "histograma = casas_Gotham['Seguro'].hist(bins=[inter.left for inter in intervalos]+[MAX],\n",
        "                       color='blue', edgecolor='black', grid=False, figsize=(TAM_FIG))\n",
        "pts_medios = [inter.mid for inter in intervalos]\n",
        "# Inserção de atributos ao gráfico\n",
        "histograma.set(xlabel='Valor do seguro (em Doláres) na cidade de Gotham', ylabel='Frequência de Seguros',\n",
        "               title = 'Valor do seguro de uma amostra de casas em Gotham',\n",
        "               xticks = pts_medios)"
      ]
    },
    {
      "cell_type": "code",
      "execution_count": 39,
      "metadata": {
        "id": "RIEI6c9foq4I"
      },
      "outputs": [
        {
          "data": {
            "text/plain": [
              "[Text(0.5, 0, 'Valor do seguro (em doláres) na cidade de Metrópolis'),\n",
              " Text(0, 0.5, 'Frequência de Seguros'),\n",
              " Text(0.5, 1.0, 'Valor do seguro de uma amostra de casas em Metrópolis'),\n",
              " [<matplotlib.axis.XTick at 0x1b7a4edfc10>,\n",
              "  <matplotlib.axis.XTick at 0x1b7a4af6ad0>,\n",
              "  <matplotlib.axis.XTick at 0x1b7a4805b70>,\n",
              "  <matplotlib.axis.XTick at 0x1b7a486a560>,\n",
              "  <matplotlib.axis.XTick at 0x1b7a486acb0>,\n",
              "  <matplotlib.axis.XTick at 0x1b7a486a800>,\n",
              "  <matplotlib.axis.XTick at 0x1b7a486b5b0>,\n",
              "  <matplotlib.axis.XTick at 0x1b7a486bd00>,\n",
              "  <matplotlib.axis.XTick at 0x1b7a4880490>,\n",
              "  <matplotlib.axis.XTick at 0x1b7a4880be0>,\n",
              "  <matplotlib.axis.XTick at 0x1b7a4881330>,\n",
              "  <matplotlib.axis.XTick at 0x1b7a486b970>,\n",
              "  <matplotlib.axis.XTick at 0x1b7a4881420>,\n",
              "  <matplotlib.axis.XTick at 0x1b7a4880130>,\n",
              "  <matplotlib.axis.XTick at 0x1b7a48820b0>,\n",
              "  <matplotlib.axis.XTick at 0x1b7a4882800>,\n",
              "  <matplotlib.axis.XTick at 0x1b7a4882f50>,\n",
              "  <matplotlib.axis.XTick at 0x1b7a48836a0>]]"
            ]
          },
          "execution_count": 39,
          "metadata": {},
          "output_type": "execute_result"
        },
        {
          "data": {
            "image/png": "[encoded data removed]",
            "text/plain": [
              "<Figure size 720x432 with 1 Axes>"
            ]
          },
          "metadata": {
            "needs_background": "light"
          },
          "output_type": "display_data"
        }
      ],
      "source": [
        "'''Histograma de seguros - Metrópolis'''\n",
        "casas_Met = casas.loc[casas['Cidade']=='Metrópolis']\n",
        "MIN, MAX, AMP = 0, 170, 10\n",
        "TAM_FIG = (10,6)\n",
        "# Construção do histograma\n",
        "intervalos = pd.interval_range(start = MIN, end = MAX+AMP, freq = AMP)\n",
        "histograma = casas_Met['Seguro'].hist(bins=[inter.left for inter in intervalos]+[MAX],\n",
        "                       color='blue', edgecolor='black', grid=False, figsize=(TAM_FIG))\n",
        "pts_medios = [inter.mid for inter in intervalos]\n",
        "# Inserção de atributos ao gráfico\n",
        "histograma.set(xlabel='Valor do seguro (em doláres) na cidade de Metrópolis', ylabel='Frequência de Seguros',\n",
        "               title = 'Valor do seguro de uma amostra de casas em Metrópolis',\n",
        "               xticks = pts_medios)"
      ]
    },
    {
      "cell_type": "markdown",
      "metadata": {
        "id": "gCycTH0Qql-1"
      },
      "source": [
        "## Responda:\n",
        "\n",
        "\n",
        "*   Quais as duas classes mais frequentes em cada histograma?\n",
        "*   Qual cidade deve ter o seguro médio mais caro? Por quê?\n",
        "\n"
      ]
    },
    {
      "cell_type": "code",
      "execution_count": 40,
      "metadata": {
        "id": "WuF4fvLxrPcm"
      },
      "outputs": [
        {
          "data": {
            "text/plain": [
              "'No histograma de Gotham a classe mais frequente é a classe 3, no histograma de Metrópolis a classe mais frequente é a classe 2.\\nA cidade que deve ter o seguro mais caro é a cidade de Gotham, pois como para Metropolís sua maior classe está mais a esquerda que a\\nmaior classe de Gotham e também ao analisar o histograma os dados de Metropolís estão mais concentrados a esquerda'"
            ]
          },
          "execution_count": 40,
          "metadata": {},
          "output_type": "execute_result"
        }
      ],
      "source": [
        "'''No histograma de Gotham a classe mais frequente é a classe 3, no histograma de Metrópolis a classe mais frequente é a classe 2.\n",
        "A cidade que deve ter o seguro mais caro é a cidade de Gotham, pois como para Metrópolis sua maior classe está mais a esquerda que a\n",
        "maior classe de Gotham e também ao analisar o histograma os dados de Metrópolis estão mais concentrados a esquerda'''"
      ]
    },
    {
      "cell_type": "markdown",
      "metadata": {
        "id": "P1rEuoCTrmQA"
      },
      "source": [
        "# Medidas centrais e de variação das distribuições de aluguéis\n",
        "Calcule as medidas centrais e de variação das distribuições de aluguéis (coluna 'Total') em cada cidade."
      ]
    },
    {
      "cell_type": "code",
      "execution_count": 41,
      "metadata": {
        "id": "nc5ZOOeprd-Q"
      },
      "outputs": [
        {
          "name": "stdout",
          "output_type": "stream",
          "text": [
            "Medias centrais e de variação de Gotham\n",
            "A média do total de alugueis da cidade de Gotham é 4678.7.\n",
            "A mediana do total de alugueis da cidade de Gotham é 3959.0.\n",
            "A moda do total de alugueis da cidade de Gotham é 2555.\n",
            "O desvio padrão do total de alugueis da cidade de Gotham é 2754.9. \n",
            "O coefiente de variação do total de alugueis da cidade de Gotham é 0.6\n",
            "Medias centrais e de variação de Metropolís\n",
            "A média do total de alugueis da cidade de Metropólis é 3005.2.\n",
            "A mediana do total de alugueis da cidade de Metropólis é 2197.0.\n",
            "A moda do total de alugueis da cidade de Metropólis é 1109.\n",
            "O desvio padrão do total de alugueis da cidade de Metropolís é 2229.3. \n",
            "O coefiente de variação do total de alugueis da cidade de Gotham é 0.7\n"
          ]
        }
      ],
      "source": [
        "# Medidas centrais e de variação para Gotham City\n",
        "# media, mediana e moda\n",
        "print('Medias centrais e de variação de Gotham')\n",
        "media = casas_Gotham['Total'].mean()\n",
        "print(f'A média do total de alugueis da cidade de Gotham é {media:.1f}.')\n",
        "mediana = casas_Gotham['Total'].median()\n",
        "print(f'A mediana do total de alugueis da cidade de Gotham é {mediana:.1f}.')\n",
        "moda = list(casas_Gotham['Total'].mode())\n",
        "print(f'A moda do total de alugueis da cidade de Gotham é {moda[0]}.')\n",
        "desv_prad = casas_Gotham['Total'].std(ddof=1)\n",
        "print(f'O desvio padrão do total de alugueis da cidade de Gotham é {desv_prad:.1f}. ')\n",
        "cv = desv_prad/media\n",
        "print(f'O coefiente de variação do total de alugueis da cidade de Gotham é {cv:.1f}')\n",
        "# Medidas centrais e de variação para Metrópolis\n",
        "print('Medias centrais e de variação de Metropolís')\n",
        "media = casas_Met['Total'].mean()\n",
        "print(f'A média do total de alugueis da cidade de Metrópolis é {media:.1f}.')\n",
        "mediana = casas_Met['Total'].median()\n",
        "print(f'A mediana do total de alugueis da cidade de Metrópolis é {mediana:.1f}.')\n",
        "moda = list(casas_Met['Total'].mode())\n",
        "print(f'A moda do total de alugueis da cidade de Metrópolis é {moda[0]}.')\n",
        "desv_prad = casas_Met['Total'].std(ddof=1)\n",
        "print(f'O desvio padrão do total de alugueis da cidade de Metrópolis é {desv_prad:.1f}. ')\n",
        "cv = desv_prad/media\n",
        "print(f'O coefiente de variação do total de alugueis da cidade de Gotham é {cv:.1f}')"
      ]
    },
    {
      "cell_type": "markdown",
      "metadata": {
        "id": "QnIzstG6s-7d"
      },
      "source": [
        "## Responda:\n",
        "Qual das cidades apresenta:\n",
        "\n",
        "*   O aluguel médio mais caro?\n",
        "*   A maior mediana?\n",
        "*   O menor desvio padrão?"
      ]
    },
    {
      "cell_type": "code",
      "execution_count": 42,
      "metadata": {
        "id": "KDvP5ly4wEPs"
      },
      "outputs": [
        {
          "data": {
            "text/plain": [
              "'O aluguel médio mais caro é o de Gotham.\\nA maior médiana é a de Gotham\\nO maior desvio padrão é o de Gotham'"
            ]
          },
          "execution_count": 42,
          "metadata": {},
          "output_type": "execute_result"
        }
      ],
      "source": [
        "'''O aluguel médio mais caro é o de Gotham.\n",
        "A maior médiana é a de Gotham\n",
        "O maior desvio padrão é o de Gotham'''"
      ]
    },
    {
      "cell_type": "markdown",
      "metadata": {
        "id": "0z4ZmRV9tWqO"
      },
      "source": [
        "## Quartis da distribuição de impostos residenciais\n",
        "Determine os quartis para a distribuição de impostos residenciais de cada cidade. A seguir, construa os respectivos diagramas boxplot."
      ]
    },
    {
      "cell_type": "code",
      "execution_count": 43,
      "metadata": {
        "id": "-mrVUhfGtPvs"
      },
      "outputs": [
        {
          "data": {
            "text/plain": [
              "0.25     19.25\n",
              "0.50    126.00\n",
              "0.75    340.75\n",
              "Name: Impostos, dtype: float64"
            ]
          },
          "metadata": {},
          "output_type": "display_data"
        },
        {
          "data": {
            "text/plain": [
              "0.25     34.0\n",
              "0.50     76.0\n",
              "0.75    176.0\n",
              "Name: Impostos, dtype: float64"
            ]
          },
          "metadata": {},
          "output_type": "display_data"
        },
        {
          "data": {
            "text/plain": [
              "Text(0.5, 1.0, 'Distribuição de impostos')"
            ]
          },
          "execution_count": 43,
          "metadata": {},
          "output_type": "execute_result"
        },
        {
          "data": {
            "image/png": "[encoded data removed]",
            "text/plain": [
              "<Figure size 720x432 with 1 Axes>"
            ]
          },
          "metadata": {
            "needs_background": "light"
          },
          "output_type": "display_data"
        }
      ],
      "source": [
        "# Quartis dos impostos em Gotham City\n",
        "# Determinação dos três quartis\n",
        "quartis = casas_Gotham['Impostos'].quantile([0.25,0.5,0.75], interpolation='linear')\n",
        "# Mostrando os quartis ao usuário\n",
        "display(quartis)\n",
        "# Quartis dos impostos em Metrópolis\n",
        "quartis = casas_Met['Impostos'].quantile([0.25,0.5,0.75], interpolation='linear')\n",
        "# Mostrando os quartis ao usuário\n",
        "display(quartis)\n",
        "# Boxplots\n",
        "casas.boxplot(by='Cidade',column='Impostos',color = 'maroon', vert=False, whis=1.5,figsize=(TAM_FIG))\n",
        "plt.title('Distribuição de impostos')"
      ]
    },
    {
      "cell_type": "markdown",
      "metadata": {
        "id": "SgIdR6Esw5G-"
      },
      "source": [
        "## Responda:\n",
        "Com base nos diagramas boxplot, classifique a distribuição dos impostos em cada cidade como simétricas, assimétricas à esquerda ou assimétricas à direita. Por quê?"
      ]
    },
    {
      "cell_type": "code",
      "execution_count": 44,
      "metadata": {
        "id": "faWDKNzpwdvv"
      },
      "outputs": [
        {
          "data": {
            "text/plain": [
              "' As ditribuições dos impostos tanto para Gotham quanto para Metropolís são assimétricas para à esquerda'"
            ]
          },
          "execution_count": 44,
          "metadata": {},
          "output_type": "execute_result"
        }
      ],
      "source": [
        "''' As ditribuições dos impostos tanto para Gotham quanto para Metrópolis são assimétricas para à esquerda'''"
      ]
    },
    {
      "cell_type": "markdown",
      "metadata": {
        "id": "ttFNowPcyCiJ"
      },
      "source": [
        "## Conclusão\n",
        "E então? Quem gasta mais com aluguel: Batman ou Superman?"
      ]
    },
    {
      "cell_type": "code",
      "execution_count": 45,
      "metadata": {
        "id": "In4e-czKyxv9"
      },
      "outputs": [
        {
          "data": {
            "text/plain": [
              "'Caso o Batman paguesse aluguel, já que ele é bilionário, ele paguaria mais alguel que o Superman, já que a média, a moda, a mediana e o desvio\\npadrão são maiores para Gotham em comparação a Metropolís'"
            ]
          },
          "execution_count": 45,
          "metadata": {},
          "output_type": "execute_result"
        }
      ],
      "source": [
        "'''Caso o Batman paguesse aluguel, já que ele é bilionário, ele paguaria mais alguel que o Superman, já que a média, a moda, a mediana e o desvio\n",
        "padrão são maiores para Gotham em comparação a Metrópolis'''"
      ]
    }
  ],
  "metadata": {
    "colab": {
      "collapsed_sections": [],
      "name": "Atividade_Descritiva_Aluno_V2.ipynb",
      "provenance": []
    },
    "kernelspec": {
      "display_name": "Python 3.10.4 64-bit",
      "language": "python",
      "name": "python3"
    },
    "language_info": {
      "codemirror_mode": {
        "name": "ipython",
        "version": 3
      },
      "file_extension": ".py",
      "mimetype": "text/x-python",
      "name": "python",
      "nbconvert_exporter": "python",
      "pygments_lexer": "ipython3",
      "version": "3.10.4"
    },
    "vscode": {
      "interpreter": {
        "hash": "1cbadf7e30f156f4e0b68f4bca81fa70237e67691d6ebe573bb449e31d409fb8"
      }
    }
  },
  "nbformat": 4,
  "nbformat_minor": 0
}
